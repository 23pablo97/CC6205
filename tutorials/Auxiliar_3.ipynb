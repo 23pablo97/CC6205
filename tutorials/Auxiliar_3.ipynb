{
  "nbformat": 4,
  "nbformat_minor": 0,
  "metadata": {
    "kernelspec": {
      "name": "python3",
      "display_name": "Python 3"
    },
    "language_info": {
      "codemirror_mode": {
        "name": "ipython",
        "version": 3
      },
      "file_extension": ".py",
      "mimetype": "text/x-python",
      "name": "python",
      "nbconvert_exporter": "python",
      "pygments_lexer": "ipython3",
      "version": "3.6.6"
    },
    "colab": {
      "name": "Auxiliar_3_Text_Classification_FF_pytorch.ipynb",
      "provenance": []
    },
    "accelerator": "GPU"
  },
  "cells": [
    {
      "cell_type": "markdown",
      "metadata": {
        "id": "jII_E6_9GzC-",
        "colab_type": "text"
      },
      "source": [
        "# Practice Class 3 - Text classification with pytorch\n",
        "\n",
        "\n",
        "Agenda: \n",
        "\n",
        "- What is pytorch \n",
        "- Pytorch: Autograd\n",
        "- Dataset\n",
        "- Indexing\n",
        "- BoW\n",
        "- Creating the model\n",
        "- Batching and padding for BoW\n",
        "- Training\n",
        "- Creating the model with embedding\n",
        "- Batching and padding for embedding\n",
        "- Training\n"
      ]
    },
    {
      "cell_type": "markdown",
      "metadata": {
        "id": "x9Fu0P-_dDrC",
        "colab_type": "text"
      },
      "source": [
        "Note: This notebook is designed to run in sequence."
      ]
    },
    {
      "cell_type": "markdown",
      "metadata": {
        "id": "C4E6l9b-nSj1",
        "colab_type": "text"
      },
      "source": [
        "Import libraries"
      ]
    },
    {
      "cell_type": "code",
      "metadata": {
        "id": "DKeAKWooGzC_",
        "colab_type": "code",
        "colab": {}
      },
      "source": [
        "import torch\n",
        "import torch.nn as nn\n",
        "from sklearn.model_selection import train_test_split\n",
        "from spacy.lang.es.stop_words import STOP_WORDS\n",
        "from sklearn import preprocessing\n",
        "import random\n",
        "import pandas as pd\n",
        "import numpy as np\n",
        "from collections import Counter\n",
        "import matplotlib\n",
        "import matplotlib.pyplot as plt\n",
        "import matplotlib.ticker as ticker\n",
        "from os import path\n"
      ],
      "execution_count": 0,
      "outputs": []
    },
    {
      "cell_type": "markdown",
      "metadata": {
        "id": "sDni9Mds9fSi",
        "colab_type": "text"
      },
      "source": [
        "#Part 1: Pytorch\n"
      ]
    },
    {
      "cell_type": "markdown",
      "metadata": {
        "id": "CArzbvZBTa5R",
        "colab_type": "text"
      },
      "source": [
        "\n",
        "##What is PyTorch?\n",
        "\n",
        "\n",
        "It’s a Python-based scientific computing package targeted at two sets of\n",
        "audiences:\n",
        "\n",
        "-  A replacement for NumPy to use the power of GPUs\n",
        "-  a deep learning research platform that provides maximum flexibility\n",
        "   and speed\n",
        "\n",
        "##Getting Started\n",
        "---------------\n",
        "\n",
        "Tensors\n",
        "\n",
        "Tensors are similar to NumPy’s ndarrays, with the addition being that\n",
        "Tensors can also be used on a GPU to accelerate computing.\n",
        "\n"
      ]
    },
    {
      "cell_type": "markdown",
      "metadata": {
        "id": "UumpLon0Ta5d",
        "colab_type": "text"
      },
      "source": [
        "Construct a 5x3 matrix, uninitialized:\n",
        "\n"
      ]
    },
    {
      "cell_type": "code",
      "metadata": {
        "id": "NoIccJtnTa5f",
        "colab_type": "code",
        "outputId": "044b0066-db71-48a9-8773-787be19884e6",
        "colab": {
          "base_uri": "https://localhost:8080/",
          "height": 102
        }
      },
      "source": [
        "x = torch.empty(5, 3)\n",
        "print(x)"
      ],
      "execution_count": 0,
      "outputs": [
        {
          "output_type": "stream",
          "text": [
            "tensor([[9.3372e-38, 0.0000e+00, 4.4842e-44],\n",
            "        [0.0000e+00,        nan, 3.2167e+38],\n",
            "        [2.0432e+20, 1.6899e-04, 4.2469e+21],\n",
            "        [1.6875e-07, 6.6646e-10, 2.6726e+23],\n",
            "        [2.6196e+20, 4.2465e+21, 7.5883e+31]])\n"
          ],
          "name": "stdout"
        }
      ]
    },
    {
      "cell_type": "markdown",
      "metadata": {
        "id": "m24Pd_DqTa5o",
        "colab_type": "text"
      },
      "source": [
        "Construct a randomly initialized matrix:\n",
        "\n"
      ]
    },
    {
      "cell_type": "code",
      "metadata": {
        "id": "exkGpVW5Ta5p",
        "colab_type": "code",
        "outputId": "23014d7a-6750-42ff-fb30-086a3a853bcf",
        "colab": {
          "base_uri": "https://localhost:8080/",
          "height": 102
        }
      },
      "source": [
        "x = torch.rand(5, 3)\n",
        "print(x)"
      ],
      "execution_count": 0,
      "outputs": [
        {
          "output_type": "stream",
          "text": [
            "tensor([[0.4486, 0.5735, 0.0050],\n",
            "        [0.8929, 0.5180, 0.9065],\n",
            "        [0.9002, 0.7611, 0.8561],\n",
            "        [0.0886, 0.2831, 0.7496],\n",
            "        [0.3759, 0.6037, 0.3632]])\n"
          ],
          "name": "stdout"
        }
      ]
    },
    {
      "cell_type": "markdown",
      "metadata": {
        "id": "sTvcBc2GTa5w",
        "colab_type": "text"
      },
      "source": [
        "Construct a matrix filled zeros and of dtype long:\n",
        "\n"
      ]
    },
    {
      "cell_type": "code",
      "metadata": {
        "id": "o8CE8y9RTa5y",
        "colab_type": "code",
        "outputId": "365138a1-4fe2-4306-81d4-5396039ae4cd",
        "colab": {
          "base_uri": "https://localhost:8080/",
          "height": 102
        }
      },
      "source": [
        "x = torch.zeros(5, 3, dtype=torch.long)\n",
        "print(x)"
      ],
      "execution_count": 0,
      "outputs": [
        {
          "output_type": "stream",
          "text": [
            "tensor([[0, 0, 0],\n",
            "        [0, 0, 0],\n",
            "        [0, 0, 0],\n",
            "        [0, 0, 0],\n",
            "        [0, 0, 0]])\n"
          ],
          "name": "stdout"
        }
      ]
    },
    {
      "cell_type": "markdown",
      "metadata": {
        "id": "N1JjB4UxTa51",
        "colab_type": "text"
      },
      "source": [
        "Construct a tensor directly from data:\n",
        "\n"
      ]
    },
    {
      "cell_type": "code",
      "metadata": {
        "id": "3UX6Ao5uTa54",
        "colab_type": "code",
        "outputId": "12954541-971e-4b91-8bd3-0e8668071534",
        "colab": {
          "base_uri": "https://localhost:8080/",
          "height": 34
        }
      },
      "source": [
        "x = torch.tensor([5.5, 3])\n",
        "print(x)"
      ],
      "execution_count": 0,
      "outputs": [
        {
          "output_type": "stream",
          "text": [
            "tensor([5.5000, 3.0000])\n"
          ],
          "name": "stdout"
        }
      ]
    },
    {
      "cell_type": "markdown",
      "metadata": {
        "id": "sIszfThFTa59",
        "colab_type": "text"
      },
      "source": [
        "or create a tensor based on an existing tensor. These methods\n",
        "will reuse properties of the input tensor, e.g. dtype, unless\n",
        "new values are provided by user\n",
        "\n"
      ]
    },
    {
      "cell_type": "code",
      "metadata": {
        "id": "q6MO1o5RTa5-",
        "colab_type": "code",
        "outputId": "78ae742f-bab2-44ca-b639-977f40be78fd",
        "colab": {
          "base_uri": "https://localhost:8080/",
          "height": 187
        }
      },
      "source": [
        "x = x.new_ones(5, 3, dtype=torch.double)      # new_* methods take in sizes\n",
        "print(x)\n",
        "\n",
        "x = torch.randn_like(x, dtype=torch.float)    # override dtype!\n",
        "print(x)                                      # result has the same size"
      ],
      "execution_count": 0,
      "outputs": [
        {
          "output_type": "stream",
          "text": [
            "tensor([[1., 1., 1.],\n",
            "        [1., 1., 1.],\n",
            "        [1., 1., 1.],\n",
            "        [1., 1., 1.],\n",
            "        [1., 1., 1.]], dtype=torch.float64)\n",
            "tensor([[ 0.4953,  0.0618, -0.7314],\n",
            "        [-0.3911, -0.4672,  1.3973],\n",
            "        [ 0.3247, -0.2843, -2.2779],\n",
            "        [ 1.6778,  0.4859,  0.7947],\n",
            "        [ 1.1966,  0.6109,  0.5748]])\n"
          ],
          "name": "stdout"
        }
      ]
    },
    {
      "cell_type": "markdown",
      "metadata": {
        "id": "TDGcdRNzTa6D",
        "colab_type": "text"
      },
      "source": [
        "Get its size:\n",
        "\n"
      ]
    },
    {
      "cell_type": "code",
      "metadata": {
        "id": "gjtTuYYKTa6E",
        "colab_type": "code",
        "outputId": "c6d4c676-5bd2-4fe1-e4cd-693ee330c39e",
        "colab": {
          "base_uri": "https://localhost:8080/",
          "height": 34
        }
      },
      "source": [
        "print(x.size())"
      ],
      "execution_count": 0,
      "outputs": [
        {
          "output_type": "stream",
          "text": [
            "torch.Size([5, 3])\n"
          ],
          "name": "stdout"
        }
      ]
    },
    {
      "cell_type": "markdown",
      "metadata": {
        "id": "XlXggCYqTa6J",
        "colab_type": "text"
      },
      "source": [
        "<div class=\"alert alert-info\"><h4>Note</h4><p>``torch.Size`` is in fact a tuple, so it supports all tuple operations.</p></div>\n",
        "\n",
        "**Operations**\n",
        "\n",
        "There are multiple syntaxes for operations. In the following\n",
        "example, we will take a look at the addition operation.\n",
        "\n",
        "Addition: syntax 1\n",
        "\n"
      ]
    },
    {
      "cell_type": "code",
      "metadata": {
        "id": "4fu_9WnqTa6K",
        "colab_type": "code",
        "outputId": "82fb50a6-13b0-408e-eee6-2172c4e50cef",
        "colab": {
          "base_uri": "https://localhost:8080/",
          "height": 102
        }
      },
      "source": [
        "y = torch.rand(5, 3)\n",
        "print(x + y)"
      ],
      "execution_count": 0,
      "outputs": [
        {
          "output_type": "stream",
          "text": [
            "tensor([[ 0.7823,  0.6407, -0.5979],\n",
            "        [ 0.4032,  0.5036,  2.1342],\n",
            "        [ 0.4818,  0.5623, -2.1194],\n",
            "        [ 1.8993,  1.3681,  1.3683],\n",
            "        [ 1.6051,  1.2291,  1.3530]])\n"
          ],
          "name": "stdout"
        }
      ]
    },
    {
      "cell_type": "markdown",
      "metadata": {
        "id": "e4AC8nTKTa6O",
        "colab_type": "text"
      },
      "source": [
        "Addition: syntax 2\n",
        "\n"
      ]
    },
    {
      "cell_type": "code",
      "metadata": {
        "id": "xEmrQSk0Ta6P",
        "colab_type": "code",
        "outputId": "2cc6d0d8-9f24-4630-b6c7-df13729b62ff",
        "colab": {
          "base_uri": "https://localhost:8080/",
          "height": 102
        }
      },
      "source": [
        "print(torch.add(x, y))"
      ],
      "execution_count": 0,
      "outputs": [
        {
          "output_type": "stream",
          "text": [
            "tensor([[ 0.7823,  0.6407, -0.5979],\n",
            "        [ 0.4032,  0.5036,  2.1342],\n",
            "        [ 0.4818,  0.5623, -2.1194],\n",
            "        [ 1.8993,  1.3681,  1.3683],\n",
            "        [ 1.6051,  1.2291,  1.3530]])\n"
          ],
          "name": "stdout"
        }
      ]
    },
    {
      "cell_type": "markdown",
      "metadata": {
        "id": "5GyBdfmyTa6T",
        "colab_type": "text"
      },
      "source": [
        "Addition: providing an output tensor as argument\n",
        "\n"
      ]
    },
    {
      "cell_type": "code",
      "metadata": {
        "id": "Qi9-U-57Ta6e",
        "colab_type": "code",
        "outputId": "11eda56f-ef57-498b-e4a5-d19843ecb6b2",
        "colab": {
          "base_uri": "https://localhost:8080/",
          "height": 102
        }
      },
      "source": [
        "result = torch.empty(5, 3)\n",
        "torch.add(x, y, out=result)\n",
        "print(result)"
      ],
      "execution_count": 0,
      "outputs": [
        {
          "output_type": "stream",
          "text": [
            "tensor([[ 0.7823,  0.6407, -0.5979],\n",
            "        [ 0.4032,  0.5036,  2.1342],\n",
            "        [ 0.4818,  0.5623, -2.1194],\n",
            "        [ 1.8993,  1.3681,  1.3683],\n",
            "        [ 1.6051,  1.2291,  1.3530]])\n"
          ],
          "name": "stdout"
        }
      ]
    },
    {
      "cell_type": "markdown",
      "metadata": {
        "id": "Zm0WO501Ta6h",
        "colab_type": "text"
      },
      "source": [
        "Addition: in-place\n",
        "\n"
      ]
    },
    {
      "cell_type": "code",
      "metadata": {
        "id": "TQY9Wp2qTa6i",
        "colab_type": "code",
        "outputId": "9b0b359e-cb4f-4c8b-f787-855499894dcc",
        "colab": {
          "base_uri": "https://localhost:8080/",
          "height": 102
        }
      },
      "source": [
        "# adds x to y\n",
        "y.add_(x)\n",
        "print(y)"
      ],
      "execution_count": 0,
      "outputs": [
        {
          "output_type": "stream",
          "text": [
            "tensor([[ 0.7823,  0.6407, -0.5979],\n",
            "        [ 0.4032,  0.5036,  2.1342],\n",
            "        [ 0.4818,  0.5623, -2.1194],\n",
            "        [ 1.8993,  1.3681,  1.3683],\n",
            "        [ 1.6051,  1.2291,  1.3530]])\n"
          ],
          "name": "stdout"
        }
      ]
    },
    {
      "cell_type": "markdown",
      "metadata": {
        "id": "bsapeJYCTa6l",
        "colab_type": "text"
      },
      "source": [
        "<div class=\"alert alert-info\"><h4>Note</h4><p>Any operation that mutates a tensor in-place is post-fixed with an ``_``.\n",
        "    For example: ``x.copy_(y)``, ``x.t_()``, will change ``x``.</p></div>\n",
        "\n",
        "You can use standard NumPy-like indexing!\n",
        "\n"
      ]
    },
    {
      "cell_type": "code",
      "metadata": {
        "id": "qsZK2ikYTa6m",
        "colab_type": "code",
        "outputId": "6b5cc59b-3c0e-4c96-ea53-795c0f1523c6",
        "colab": {
          "base_uri": "https://localhost:8080/",
          "height": 34
        }
      },
      "source": [
        "print(y[:, 1])"
      ],
      "execution_count": 0,
      "outputs": [
        {
          "output_type": "stream",
          "text": [
            "tensor([0.6407, 0.5036, 0.5623, 1.3681, 1.2291])\n"
          ],
          "name": "stdout"
        }
      ]
    },
    {
      "cell_type": "markdown",
      "metadata": {
        "id": "iJsuwmuHTa6r",
        "colab_type": "text"
      },
      "source": [
        "Resizing: If you want to resize/reshape tensor, you can use ``torch.view``:\n",
        "\n"
      ]
    },
    {
      "cell_type": "code",
      "metadata": {
        "id": "Cf6rgMalTa6s",
        "colab_type": "code",
        "outputId": "232e007f-7b4a-4270-a210-8a0c63c17a1d",
        "colab": {
          "base_uri": "https://localhost:8080/",
          "height": 34
        }
      },
      "source": [
        "x = torch.randn(4, 4)\n",
        "y = x.view(16)\n",
        "z = x.view(-1, 8)  # the size -1 is inferred from other dimensions\n",
        "print(x.size(), y.size(), z.size())"
      ],
      "execution_count": 0,
      "outputs": [
        {
          "output_type": "stream",
          "text": [
            "torch.Size([4, 4]) torch.Size([16]) torch.Size([2, 8])\n"
          ],
          "name": "stdout"
        }
      ]
    },
    {
      "cell_type": "markdown",
      "metadata": {
        "id": "O7q2SWc6Ta6z",
        "colab_type": "text"
      },
      "source": [
        "If you have a one element tensor, use ``.item()`` to get the value as a\n",
        "Python number\n",
        "\n"
      ]
    },
    {
      "cell_type": "code",
      "metadata": {
        "id": "tJO8VXR1Ta6z",
        "colab_type": "code",
        "outputId": "206ea19f-a34a-4a84-a2bc-9eb56c070a3d",
        "colab": {
          "base_uri": "https://localhost:8080/",
          "height": 51
        }
      },
      "source": [
        "x = torch.randn(1)\n",
        "print(x)\n",
        "print(x.item())"
      ],
      "execution_count": 0,
      "outputs": [
        {
          "output_type": "stream",
          "text": [
            "tensor([-0.3467])\n",
            "-0.34665921330451965\n"
          ],
          "name": "stdout"
        }
      ]
    },
    {
      "cell_type": "markdown",
      "metadata": {
        "id": "DHHlHBYvTa63",
        "colab_type": "text"
      },
      "source": [
        "**Read later:**\n",
        "\n",
        "\n",
        "  100+ Tensor operations, including transposing, indexing, slicing,\n",
        "  mathematical operations, linear algebra, random numbers, etc.,\n",
        "  are described\n",
        "  `here <http://pytorch.org/docs/torch>`.\n",
        "\n",
        "NumPy Bridge\n",
        "------------\n",
        "\n",
        "Converting a Torch Tensor to a NumPy array and vice versa.\n",
        "\n",
        "The Torch Tensor and NumPy array will share their underlying memory\n",
        "locations, and changing one will change the other.\n",
        "\n",
        "Converting a Torch Tensor to a NumPy Array\n",
        "\n",
        "\n"
      ]
    },
    {
      "cell_type": "code",
      "metadata": {
        "id": "JNM9z0-sTa65",
        "colab_type": "code",
        "outputId": "6d67d00c-7e65-4bc4-aeb0-0a271cefb61d",
        "colab": {
          "base_uri": "https://localhost:8080/"
        }
      },
      "source": [
        "a = torch.ones(5)\n",
        "print(a)"
      ],
      "execution_count": 0,
      "outputs": [
        {
          "output_type": "stream",
          "text": [
            "tensor([1., 1., 1., 1., 1.])\n"
          ],
          "name": "stdout"
        }
      ]
    },
    {
      "cell_type": "code",
      "metadata": {
        "id": "5UWItQEfTa7C",
        "colab_type": "code",
        "outputId": "2fcaddc5-8f82-44d5-a5c5-96489364fb2a",
        "colab": {
          "base_uri": "https://localhost:8080/"
        }
      },
      "source": [
        "b = a.numpy()\n",
        "print(b)"
      ],
      "execution_count": 0,
      "outputs": [
        {
          "output_type": "stream",
          "text": [
            "[1. 1. 1. 1. 1.]\n"
          ],
          "name": "stdout"
        }
      ]
    },
    {
      "cell_type": "markdown",
      "metadata": {
        "id": "9wWueBlTTa7J",
        "colab_type": "text"
      },
      "source": [
        "See how the numpy array changed in value.\n",
        "\n"
      ]
    },
    {
      "cell_type": "code",
      "metadata": {
        "id": "4a28LdUxTa7M",
        "colab_type": "code",
        "outputId": "f291663f-1400-44fe-c57d-614102449f05",
        "colab": {
          "base_uri": "https://localhost:8080/"
        }
      },
      "source": [
        "a.add_(1)\n",
        "print(a)\n",
        "print(b)"
      ],
      "execution_count": 0,
      "outputs": [
        {
          "output_type": "stream",
          "text": [
            "tensor([2., 2., 2., 2., 2.])\n",
            "[2. 2. 2. 2. 2.]\n"
          ],
          "name": "stdout"
        }
      ]
    },
    {
      "cell_type": "markdown",
      "metadata": {
        "id": "bvX5MJANTa7R",
        "colab_type": "text"
      },
      "source": [
        "Converting NumPy Array to Torch Tensor\n",
        "\n",
        "See how changing the np array changed the Torch Tensor automatically\n",
        "\n"
      ]
    },
    {
      "cell_type": "code",
      "metadata": {
        "id": "qbDf2Jl0Ta7S",
        "colab_type": "code",
        "outputId": "bf989805-5981-46b7-9d7b-df6ad6f48586",
        "colab": {
          "base_uri": "https://localhost:8080/"
        }
      },
      "source": [
        "import numpy as np\n",
        "a = np.ones(5)\n",
        "b = torch.from_numpy(a)\n",
        "np.add(a, 1, out=a)\n",
        "print(a)\n",
        "print(b)"
      ],
      "execution_count": 0,
      "outputs": [
        {
          "output_type": "stream",
          "text": [
            "[2. 2. 2. 2. 2.]\n",
            "tensor([2., 2., 2., 2., 2.], dtype=torch.float64)\n"
          ],
          "name": "stdout"
        }
      ]
    },
    {
      "cell_type": "markdown",
      "metadata": {
        "id": "0_6cjNuPTa7W",
        "colab_type": "text"
      },
      "source": [
        "All the Tensors on the CPU except a CharTensor support converting to\n",
        "NumPy and back.\n",
        "\n",
        "CUDA Tensors\n",
        "------------\n",
        "\n",
        "Tensors can be moved onto any device using the ``.to`` method.\n",
        "\n"
      ]
    },
    {
      "cell_type": "code",
      "metadata": {
        "id": "r7eviSd2Ta7Y",
        "colab_type": "code",
        "outputId": "06937ff7-d3e5-42e7-82a8-1c9d6d791bc8",
        "colab": {
          "base_uri": "https://localhost:8080/"
        }
      },
      "source": [
        "# let us run this cell only if CUDA is available\n",
        "# We will use ``torch.device`` objects to move tensors in and out of GPU\n",
        "if torch.cuda.is_available():\n",
        "    device = torch.device(\"cuda\")          # a CUDA device object\n",
        "    y = torch.ones_like(x, device=device)  # directly create a tensor on GPU\n",
        "    x = x.to(device)                       # or just use strings ``.to(\"cuda\")``\n",
        "    z = x + y\n",
        "    print(z)\n",
        "    print(z.to(\"cpu\", torch.double))       # ``.to`` can also change dtype together!"
      ],
      "execution_count": 0,
      "outputs": [
        {
          "output_type": "stream",
          "text": [
            "tensor([0.6533], device='cuda:0')\n",
            "tensor([0.6533], dtype=torch.float64)\n"
          ],
          "name": "stdout"
        }
      ]
    },
    {
      "cell_type": "markdown",
      "metadata": {
        "id": "Fv5BZRDuFpdq",
        "colab_type": "text"
      },
      "source": [
        ""
      ]
    },
    {
      "cell_type": "markdown",
      "metadata": {
        "id": "o9-_5RuNTYBB",
        "colab_type": "text"
      },
      "source": [
        "\n",
        "##Autograd: Automatic Differentiation\n",
        "\n",
        "\n",
        "Central to all neural networks in PyTorch is the ``autograd`` package.\n",
        "Let’s first briefly visit this, and we will then go to training our\n",
        "first neural network.\n",
        "\n",
        "\n",
        "The ``autograd`` package provides automatic differentiation for all operations\n",
        "on Tensors. It is a define-by-run framework, which means that your backprop is\n",
        "defined by how your code is run, and that every single iteration can be\n",
        "different.\n",
        "\n",
        "Let us see this in more simple terms with some examples.\n",
        "\n",
        "**Tensor**\n",
        "\n",
        "\n",
        "``torch.Tensor`` is the central class of the package. If you set its attribute\n",
        "``.requires_grad`` as ``True``, it starts to track all operations on it. When\n",
        "you finish your computation you can call ``.backward()`` and have all the\n",
        "gradients computed automatically. The gradient for this tensor will be\n",
        "accumulated into ``.grad`` attribute.\n",
        "\n",
        "To stop a tensor from tracking history, you can call ``.detach()`` to detach\n",
        "it from the computation history, and to prevent future computation from being\n",
        "tracked.\n",
        "\n",
        "To prevent tracking history (and using memory), you can also wrap the code block\n",
        "in ``with torch.no_grad():``. This can be particularly helpful when evaluating a\n",
        "model because the model may have trainable parameters with `requires_grad=True`,\n",
        "but for which we don't need the gradients.\n",
        "\n",
        "There’s one more class which is very important for autograd\n",
        "implementation - a ``Function``.\n",
        "\n",
        "``Tensor`` and ``Function`` are interconnected and build up an acyclic\n",
        "graph, that encodes a complete history of computation. Each tensor has\n",
        "a ``.grad_fn`` attribute that references a ``Function`` that has created\n",
        "the ``Tensor`` (except for Tensors created by the user - their\n",
        "``grad_fn is None``).\n",
        "\n",
        "If you want to compute the derivatives, you can call ``.backward()`` on\n",
        "a ``Tensor``. If ``Tensor`` is a scalar (i.e. it holds a one element\n",
        "data), you don’t need to specify any arguments to ``backward()``,\n",
        "however if it has more elements, you need to specify a ``gradient``\n",
        "argument that is a tensor of matching shape.\n",
        "\n"
      ]
    },
    {
      "cell_type": "markdown",
      "metadata": {
        "id": "g8-3GwfqTYBP",
        "colab_type": "text"
      },
      "source": [
        "Create a tensor and set requires_grad=True to track computation with it\n",
        "\n"
      ]
    },
    {
      "cell_type": "code",
      "metadata": {
        "id": "ooWco2LKTYBQ",
        "colab_type": "code",
        "outputId": "fc7bf79b-ccc3-4747-f99d-825ab107008f",
        "colab": {
          "base_uri": "https://localhost:8080/"
        }
      },
      "source": [
        "x = torch.ones(2, 2, requires_grad=True)\n",
        "print(x)"
      ],
      "execution_count": 0,
      "outputs": [
        {
          "output_type": "stream",
          "text": [
            "tensor([[1., 1.],\n",
            "        [1., 1.]], requires_grad=True)\n"
          ],
          "name": "stdout"
        }
      ]
    },
    {
      "cell_type": "markdown",
      "metadata": {
        "id": "IS9SAXIZTYBU",
        "colab_type": "text"
      },
      "source": [
        "Do an operation of tensor:\n",
        "\n"
      ]
    },
    {
      "cell_type": "code",
      "metadata": {
        "id": "fjKZLPH5TYBX",
        "colab_type": "code",
        "outputId": "2e11f2f1-0a63-468d-898c-3b62a3fdbfdc",
        "colab": {
          "base_uri": "https://localhost:8080/"
        }
      },
      "source": [
        "y = x + 2\n",
        "print(y)"
      ],
      "execution_count": 0,
      "outputs": [
        {
          "output_type": "stream",
          "text": [
            "tensor([[3., 3.],\n",
            "        [3., 3.]], grad_fn=<AddBackward0>)\n"
          ],
          "name": "stdout"
        }
      ]
    },
    {
      "cell_type": "markdown",
      "metadata": {
        "id": "7O7Aq6skTYBr",
        "colab_type": "text"
      },
      "source": [
        "``y`` was created as a result of an operation, so it has a ``grad_fn``.\n",
        "\n"
      ]
    },
    {
      "cell_type": "code",
      "metadata": {
        "id": "N_fsbMSQTYBs",
        "colab_type": "code",
        "outputId": "56fe467f-b2f4-4a27-e192-b7c828861a29",
        "colab": {
          "base_uri": "https://localhost:8080/"
        }
      },
      "source": [
        "print(y.grad_fn)"
      ],
      "execution_count": 0,
      "outputs": [
        {
          "output_type": "stream",
          "text": [
            "<AddBackward0 object at 0x7fd7ac3b17f0>\n"
          ],
          "name": "stdout"
        }
      ]
    },
    {
      "cell_type": "markdown",
      "metadata": {
        "id": "o94hOKY_TYBx",
        "colab_type": "text"
      },
      "source": [
        "Do more operations on y\n",
        "\n"
      ]
    },
    {
      "cell_type": "code",
      "metadata": {
        "id": "820gxXTYTYBy",
        "colab_type": "code",
        "outputId": "e6ffbf80-5154-4b9e-cb6c-135300ac854f",
        "colab": {
          "base_uri": "https://localhost:8080/"
        }
      },
      "source": [
        "z = y * y * 3\n",
        "out = z.mean()\n",
        "\n",
        "print(z, out)"
      ],
      "execution_count": 0,
      "outputs": [
        {
          "output_type": "stream",
          "text": [
            "tensor([[27., 27.],\n",
            "        [27., 27.]], grad_fn=<MulBackward0>) tensor(27., grad_fn=<MeanBackward0>)\n"
          ],
          "name": "stdout"
        }
      ]
    },
    {
      "cell_type": "markdown",
      "metadata": {
        "id": "ut7BAU_ITYB2",
        "colab_type": "text"
      },
      "source": [
        "``.requires_grad_( ... )`` changes an existing Tensor's ``requires_grad``\n",
        "flag in-place. The input flag defaults to ``False`` if not given.\n",
        "\n"
      ]
    },
    {
      "cell_type": "code",
      "metadata": {
        "id": "tc2QL5f0TYB3",
        "colab_type": "code",
        "outputId": "eb03d860-a714-40ed-bb58-8ea0785e306f",
        "colab": {
          "base_uri": "https://localhost:8080/"
        }
      },
      "source": [
        "a = torch.randn(2, 2)\n",
        "a = ((a * 3) / (a - 1))\n",
        "print(a.requires_grad)\n",
        "a.requires_grad_(True)\n",
        "print(a.requires_grad)\n",
        "b = (a * a).sum()\n",
        "print(b.grad_fn)"
      ],
      "execution_count": 0,
      "outputs": [
        {
          "output_type": "stream",
          "text": [
            "False\n",
            "True\n",
            "<SumBackward0 object at 0x7fd7ac3ed470>\n"
          ],
          "name": "stdout"
        }
      ]
    },
    {
      "cell_type": "markdown",
      "metadata": {
        "id": "z_6m-LW8TYB6",
        "colab_type": "text"
      },
      "source": [
        "Gradients\n",
        "---------\n",
        "Let's backprop now\n"
      ]
    },
    {
      "cell_type": "code",
      "metadata": {
        "id": "N4aegGpcTYB7",
        "colab_type": "code",
        "colab": {}
      },
      "source": [
        "out.backward()"
      ],
      "execution_count": 0,
      "outputs": []
    },
    {
      "cell_type": "markdown",
      "metadata": {
        "id": "_gvyHkmATYCA",
        "colab_type": "text"
      },
      "source": [
        "print gradients d(out)/dx\n",
        "\n",
        "\n"
      ]
    },
    {
      "cell_type": "code",
      "metadata": {
        "id": "mbcyrDZBTYCB",
        "colab_type": "code",
        "outputId": "41e789ba-d9bd-4251-bc3b-b28bd61aae50",
        "colab": {
          "base_uri": "https://localhost:8080/",
          "height": 51
        }
      },
      "source": [
        "print(x.grad)"
      ],
      "execution_count": 0,
      "outputs": [
        {
          "output_type": "stream",
          "text": [
            "tensor([[4.5000, 4.5000],\n",
            "        [4.5000, 4.5000]])\n"
          ],
          "name": "stdout"
        }
      ]
    },
    {
      "cell_type": "markdown",
      "metadata": {
        "id": "jegyCPJCTYCE",
        "colab_type": "text"
      },
      "source": [
        "You should have got a matrix of ``4.5``. \n",
        "\n",
        "Remember $out = \\frac{1}{4}\\sum_i z_i$ and\n",
        "$z_i = 3(x_i+2)^2$.\n",
        "\n"
      ]
    },
    {
      "cell_type": "markdown",
      "metadata": {
        "id": "qwMFBBirTYCk",
        "colab_type": "text"
      },
      "source": [
        "You can also stop autograd from tracking history on Tensors\n",
        "with ``.requires_grad=True`` by wrapping the code block in\n",
        "``with torch.no_grad()``:\n",
        "\n"
      ]
    },
    {
      "cell_type": "code",
      "metadata": {
        "id": "KJpc9geLTYCl",
        "colab_type": "code",
        "outputId": "dae1c1dc-174e-4778-e73c-9c2b59474524",
        "colab": {
          "base_uri": "https://localhost:8080/",
          "height": 68
        }
      },
      "source": [
        "print(x.requires_grad)\n",
        "print((x ** 2).requires_grad)\n",
        "\n",
        "with torch.no_grad():\n",
        "\tprint((x ** 2).requires_grad)"
      ],
      "execution_count": 0,
      "outputs": [
        {
          "output_type": "stream",
          "text": [
            "True\n",
            "True\n",
            "False\n"
          ],
          "name": "stdout"
        }
      ]
    },
    {
      "cell_type": "markdown",
      "metadata": {
        "id": "ULuBgoWXTYCw",
        "colab_type": "text"
      },
      "source": [
        "**Read Later:**\n",
        "\n",
        "Documentation of ``autograd`` and ``Function`` is at\n",
        "http://pytorch.org/docs/autograd\n",
        "\n"
      ]
    },
    {
      "cell_type": "markdown",
      "metadata": {
        "id": "YwN4vNsE9rYJ",
        "colab_type": "text"
      },
      "source": [
        "#Part 2: Classification"
      ]
    },
    {
      "cell_type": "markdown",
      "metadata": {
        "id": "3-Q6ZNYXZL1R",
        "colab_type": "text"
      },
      "source": [
        "### Load data \n",
        "\n",
        "\n",
        "We will use a dataset of news from radio biobio. Load the data using pandas as pd.\n"
      ]
    },
    {
      "cell_type": "code",
      "metadata": {
        "ExecuteTime": {
          "end_time": "2019-08-08T17:49:24.423386Z",
          "start_time": "2019-08-08T17:49:23.409130Z"
        },
        "id": "wZR7-VGzZL1T",
        "colab_type": "code",
        "colab": {}
      },
      "source": [
        "dataset = pd.read_json(\n",
        "    'https://github.com/dccuchile/CC6205/releases/download/Data/biobio_clean.bz2',\n",
        "    encoding=\"utf-8\")"
      ],
      "execution_count": 0,
      "outputs": []
    },
    {
      "cell_type": "code",
      "metadata": {
        "id": "vCDuxEJSNx5V",
        "colab_type": "code",
        "colab": {}
      },
      "source": [
        "dataset = dataset[(dataset.category =='nacional') | (dataset.category =='internacional') | (dataset.category =='economia') | (dataset.category =='sociedad') | (dataset.category =='opinion')]"
      ],
      "execution_count": 0,
      "outputs": []
    },
    {
      "cell_type": "code",
      "metadata": {
        "id": "VE39JBvEny0r",
        "colab_type": "code",
        "outputId": "4e906eea-e2cc-4bbd-9198-a8f829f86cb1",
        "colab": {
          "base_uri": "https://localhost:8080/",
          "height": 272
        }
      },
      "source": [
        "dataset.info()"
      ],
      "execution_count": 0,
      "outputs": [
        {
          "output_type": "stream",
          "text": [
            "<class 'pandas.core.frame.DataFrame'>\n",
            "Int64Index: 26413 entries, 0 to 26412\n",
            "Data columns (total 10 columns):\n",
            "author                  26411 non-null object\n",
            "author_link             26413 non-null object\n",
            "category                26413 non-null object\n",
            "content                 26413 non-null object\n",
            "embedded_links          26413 non-null object\n",
            "link                    26413 non-null object\n",
            "publication_datetime    26413 non-null int64\n",
            "subcategory             26413 non-null object\n",
            "tags                    26413 non-null object\n",
            "title                   26413 non-null object\n",
            "dtypes: int64(1), object(9)\n",
            "memory usage: 2.2+ MB\n"
          ],
          "name": "stdout"
        }
      ]
    },
    {
      "cell_type": "code",
      "metadata": {
        "id": "BRqm_1K98EvA",
        "colab_type": "code",
        "outputId": "e0ca3834-faaf-4088-86a1-d390a65c234b",
        "colab": {
          "base_uri": "https://localhost:8080/",
          "height": 615
        }
      },
      "source": [
        "dataset.head()"
      ],
      "execution_count": 0,
      "outputs": [
        {
          "output_type": "execute_result",
          "data": {
            "text/html": [
              "<div>\n",
              "<style scoped>\n",
              "    .dataframe tbody tr th:only-of-type {\n",
              "        vertical-align: middle;\n",
              "    }\n",
              "\n",
              "    .dataframe tbody tr th {\n",
              "        vertical-align: top;\n",
              "    }\n",
              "\n",
              "    .dataframe thead th {\n",
              "        text-align: right;\n",
              "    }\n",
              "</style>\n",
              "<table border=\"1\" class=\"dataframe\">\n",
              "  <thead>\n",
              "    <tr style=\"text-align: right;\">\n",
              "      <th></th>\n",
              "      <th>author</th>\n",
              "      <th>author_link</th>\n",
              "      <th>category</th>\n",
              "      <th>content</th>\n",
              "      <th>embedded_links</th>\n",
              "      <th>link</th>\n",
              "      <th>publication_datetime</th>\n",
              "      <th>subcategory</th>\n",
              "      <th>tags</th>\n",
              "      <th>title</th>\n",
              "    </tr>\n",
              "  </thead>\n",
              "  <tbody>\n",
              "    <tr>\n",
              "      <th>0</th>\n",
              "      <td>Yerko Roa</td>\n",
              "      <td>/lista/autores/yroa</td>\n",
              "      <td>nacional</td>\n",
              "      <td>Noticia en Desarrollo  Estamos recopilando m...</td>\n",
              "      <td>[]</td>\n",
              "      <td>https://www.biobiochile.cl/noticias/nacional/r...</td>\n",
              "      <td>1565778000000</td>\n",
              "      <td>region-de-valparaiso</td>\n",
              "      <td>[]</td>\n",
              "      <td>Colapsa otro segmento de casa que se derrumbó ...</td>\n",
              "    </tr>\n",
              "    <tr>\n",
              "      <th>1</th>\n",
              "      <td>Valentina González</td>\n",
              "      <td>/lista/autores/vgonzalez</td>\n",
              "      <td>nacional</td>\n",
              "      <td>Detectives de la Policía de Investigaciones ...</td>\n",
              "      <td>[https://media.biobiochile.cl/wp-content/uploa...</td>\n",
              "      <td>https://www.biobiochile.cl/noticias/nacional/r...</td>\n",
              "      <td>1565771820000</td>\n",
              "      <td>region-metropolitana</td>\n",
              "      <td>[#parricidio, #PDI, #Pudahuel, #Región Metropo...</td>\n",
              "      <td>Policía busca a mujer acusada de matar a su pa...</td>\n",
              "    </tr>\n",
              "    <tr>\n",
              "      <th>2</th>\n",
              "      <td>Felipe Delgado</td>\n",
              "      <td>/lista/autores/fdelgado</td>\n",
              "      <td>nacional</td>\n",
              "      <td>Dos detenidos fue el saldo de una serie de i...</td>\n",
              "      <td>[]</td>\n",
              "      <td>https://www.biobiochile.cl/noticias/nacional/r...</td>\n",
              "      <td>1565772480000</td>\n",
              "      <td>region-metropolitana</td>\n",
              "      <td>[#Incendio, #Liceo de Aplicación, #Región Metr...</td>\n",
              "      <td>Dos detenidos en Liceo de Aplicación: protagon...</td>\n",
              "    </tr>\n",
              "    <tr>\n",
              "      <th>3</th>\n",
              "      <td>Matías Vega</td>\n",
              "      <td>/lista/autores/mvega</td>\n",
              "      <td>nacional</td>\n",
              "      <td>La sala del Senado aprobó en general el proy...</td>\n",
              "      <td>[https://media.biobiochile.cl/wp-content/uploa...</td>\n",
              "      <td>https://www.biobiochile.cl/noticias/nacional/c...</td>\n",
              "      <td>1565772720000</td>\n",
              "      <td>chile</td>\n",
              "      <td>[#Inmigración, #Inmigrantes, #Ley, #Migración,...</td>\n",
              "      <td>Apoyo transversal: Senado aprueba en general p...</td>\n",
              "    </tr>\n",
              "    <tr>\n",
              "      <th>4</th>\n",
              "      <td>Valentina González</td>\n",
              "      <td>/lista/autores/vgonzalez</td>\n",
              "      <td>nacional</td>\n",
              "      <td>La mañana de este miércoles se produjo una e...</td>\n",
              "      <td>[]</td>\n",
              "      <td>https://www.biobiochile.cl/noticias/nacional/r...</td>\n",
              "      <td>1565772960000</td>\n",
              "      <td>region-metropolitana</td>\n",
              "      <td>[#Carabineros, #FFEE, #Gases Lacrimógenos, #In...</td>\n",
              "      <td>Evacuación espontánea en Instituto Nacional po...</td>\n",
              "    </tr>\n",
              "  </tbody>\n",
              "</table>\n",
              "</div>"
            ],
            "text/plain": [
              "               author  ...                                              title\n",
              "0           Yerko Roa  ...  Colapsa otro segmento de casa que se derrumbó ...\n",
              "1  Valentina González  ...  Policía busca a mujer acusada de matar a su pa...\n",
              "2      Felipe Delgado  ...  Dos detenidos en Liceo de Aplicación: protagon...\n",
              "3         Matías Vega  ...  Apoyo transversal: Senado aprueba en general p...\n",
              "4  Valentina González  ...  Evacuación espontánea en Instituto Nacional po...\n",
              "\n",
              "[5 rows x 10 columns]"
            ]
          },
          "metadata": {
            "tags": []
          },
          "execution_count": 94
        }
      ]
    },
    {
      "cell_type": "markdown",
      "metadata": {
        "id": "WcWsCHUDiNHy",
        "colab_type": "text"
      },
      "source": [
        "Indexing\n",
        "--------------------------"
      ]
    },
    {
      "cell_type": "markdown",
      "metadata": {
        "id": "N3rTkwvCpRX0",
        "colab_type": "text"
      },
      "source": [
        "The indexer takes as input a list of texts and as params *vocab_size* and *token_mincount*. The params are used in conjunction to build a vocabulary. \n",
        "\n",
        "*   *vocab_size* defines the size of the vocabulary if different to 0.\n",
        "*   *token_mincount* defines the minimun number of appearances of a token in the dataset to be part of the vocabulary.\n",
        "\n"
      ]
    },
    {
      "cell_type": "code",
      "metadata": {
        "id": "t6jM2W3fiLsP",
        "colab_type": "code",
        "colab": {}
      },
      "source": [
        "class Indexer():\n",
        "    def __init__(self):\n",
        "        pass\n",
        "    def filter_token(self, token):\n",
        "        return (not (token in STOP_WORDS)) and (len(token) >2)\n",
        "        \n",
        "    def fit(self, texts, vocab_size = 0, token_mincount = 0):\n",
        "        tokens = [token for text in texts for token in text.lower().split() if self.filter_token(token)]\n",
        "        \n",
        "        counter_tokens = Counter(tokens)\n",
        "        if (vocab_size > 0):\n",
        "            pairs = counter_tokens.most_common(vocab_size)\n",
        "        else:\n",
        "            pairs = list(counter_tokens.items())\n",
        "\n",
        "        self.vocab = list(set([token for token, count in pairs if count >= token_mincount]))\n",
        "        self.vocab = set([token for token, count in pairs if count >= token_mincount])\n",
        "\n",
        "        self.idx2token = {index:token  for index,token in enumerate(self.vocab)}\n",
        "        self.token2idx = {token:index for index,token in self.idx2token.items()}\n",
        "\n",
        "    \n",
        "\n",
        "    def transform(self, texts):\n",
        "        idxstexts = []\n",
        "        for text in texts:\n",
        "            indexed_text = [self.token2idx[token] for token in text.lower().split() if token in self.vocab]\n",
        "            idxstexts.append(indexed_text)\n",
        "        return idxstexts\n",
        "        \n",
        "    def Item2idx(self, item):\n",
        "        return self.token2idx.get(item, -1)\n",
        "\n",
        "    def Idx2item(self, index):\n",
        "        return self.idx2token.get(index, None)\n"
      ],
      "execution_count": 0,
      "outputs": []
    },
    {
      "cell_type": "code",
      "metadata": {
        "id": "46Mqel-Mqnw0",
        "colab_type": "code",
        "outputId": "5931ef01-26a9-4f05-fe43-02e1502c735c",
        "colab": {
          "base_uri": "https://localhost:8080/",
          "height": 68
        }
      },
      "source": [
        "indexer = Indexer()\n",
        "indexer.fit([\"Estamos en la clase de Natural Language Processing .\",\"La clase de Natural Language Processing es en la sala 105\"],token_mincount = 2)\n",
        "print(indexer.vocab)\n",
        "print(indexer.idx2token)\n",
        "print(indexer.token2idx)\n"
      ],
      "execution_count": 0,
      "outputs": [
        {
          "output_type": "stream",
          "text": [
            "{'natural', 'clase', 'processing', 'language'}\n",
            "{0: 'natural', 1: 'clase', 2: 'processing', 3: 'language'}\n",
            "{'natural': 0, 'clase': 1, 'processing': 2, 'language': 3}\n"
          ],
          "name": "stdout"
        }
      ]
    },
    {
      "cell_type": "markdown",
      "metadata": {
        "id": "SBDe10_Hqijz",
        "colab_type": "text"
      },
      "source": [
        "Convert the labels to numbers"
      ]
    },
    {
      "cell_type": "code",
      "metadata": {
        "id": "lgyV6h2lsD57",
        "colab_type": "code",
        "outputId": "7a491c53-3b46-4f95-9ca8-1951cfb2b0ea",
        "colab": {
          "base_uri": "https://localhost:8080/",
          "height": 85
        }
      },
      "source": [
        "le = preprocessing.LabelEncoder()\n",
        "labels = le.fit_transform([\"label5\",\"label3\",\"label4\"])\n",
        "print(le.classes_)\n",
        "print(labels)\n",
        "print(le.inverse_transform([1,2,0]))\n",
        "print(le.transform([\"label5\",\"label4\"]))\n"
      ],
      "execution_count": 0,
      "outputs": [
        {
          "output_type": "stream",
          "text": [
            "['label3' 'label4' 'label5']\n",
            "[2 0 1]\n",
            "['label4' 'label5' 'label3']\n",
            "[2 1]\n"
          ],
          "name": "stdout"
        }
      ]
    },
    {
      "cell_type": "code",
      "metadata": {
        "id": "nYJ8tmpxaDXG",
        "colab_type": "code",
        "outputId": "1c98e61b-fc6b-406a-d2a2-06de5ed2918c",
        "colab": {
          "base_uri": "https://localhost:8080/",
          "height": 34
        }
      },
      "source": [
        "le = preprocessing.LabelEncoder()\n",
        "y = le.fit_transform(list(dataset.category))\n",
        "n_categories = len(le.classes_)\n",
        "n_categories"
      ],
      "execution_count": 0,
      "outputs": [
        {
          "output_type": "execute_result",
          "data": {
            "text/plain": [
              "5"
            ]
          },
          "metadata": {
            "tags": []
          },
          "execution_count": 98
        }
      ]
    },
    {
      "cell_type": "markdown",
      "metadata": {
        "id": "-cbhmZsXtR_s",
        "colab_type": "text"
      },
      "source": [
        "Split train-test"
      ]
    },
    {
      "cell_type": "code",
      "metadata": {
        "id": "b17sMFE_EB3X",
        "colab_type": "code",
        "colab": {}
      },
      "source": [
        "X_train, X_test, y_train, y_test = train_test_split(list(dataset.content), y, test_size=0.33, random_state=42)"
      ],
      "execution_count": 0,
      "outputs": []
    },
    {
      "cell_type": "markdown",
      "metadata": {
        "id": "qrU6qwb_tYHQ",
        "colab_type": "text"
      },
      "source": [
        "Build the indexer"
      ]
    },
    {
      "cell_type": "code",
      "metadata": {
        "id": "J5AJVpAdN2bF",
        "colab_type": "code",
        "colab": {}
      },
      "source": [
        "indexer = Indexer()\n",
        "indexer.fit(X_train, vocab_size = 10, token_mincount = 10)\n",
        "vocab_size = len(indexer.vocab)"
      ],
      "execution_count": 0,
      "outputs": []
    },
    {
      "cell_type": "markdown",
      "metadata": {
        "id": "_8xhtvcBGzDC",
        "colab_type": "text"
      },
      "source": [
        "Now we have ``category_lines``, a dictionary mapping each category\n",
        "(language) to a list of lines (names). We also kept track of\n",
        "``all_categories`` (just a list of languages) and ``n_categories`` for\n",
        "later reference.\n",
        "\n",
        "\n"
      ]
    },
    {
      "cell_type": "markdown",
      "metadata": {
        "id": "U_J5C3xZt3Ki",
        "colab_type": "text"
      },
      "source": [
        "#Classification with Bag-of-Words "
      ]
    },
    {
      "cell_type": "markdown",
      "metadata": {
        "id": "uZuuUSv-GzDH",
        "colab_type": "text"
      },
      "source": [
        "##Turning texts into Tensors\n",
        "\n",
        "Now that we have all the texts organized, we need to turn them into\n",
        "Tensors to make any use of them.\n",
        "\n",
        "To represent a single token, we use a \"one-hot vector\" of size\n",
        "``<1 x vocab_size>``. A one-hot vector is filled with 0s except for a 1\n",
        "at index of the current token, e.g. ``\"language\" = <0 1 0 0 0 ...>``.\n",
        "\n",
        "To make a text we join a bunch of those into a tensor\n",
        "``<text_length x 1 x vocab_size>``.\n",
        "\n",
        "That extra 1 dimension is because PyTorch assumes everything is in\n",
        "batches - we're just using a batch size of 1 here.\n",
        "\n",
        "\n"
      ]
    },
    {
      "cell_type": "code",
      "metadata": {
        "id": "rg-FVJt-GzDI",
        "colab_type": "code",
        "colab": {}
      },
      "source": [
        "def tokenToIndex(token):\n",
        "    return indexer.Item2idx(token)\n",
        "\n",
        "#Convert a token to a tensor of size <1 x vocab_size>\n",
        "def tokenToTensor(token):\n",
        "    tensor = torch.zeros(1, vocab_size+1)\n",
        "    tensor[0][tokenToIndex(token)] = 1\n",
        "    return tensor\n",
        "\n",
        "# Turn a text into a <text_length x 1 x vocab_size>,\n",
        "# or an array of one-hot token vectors\n",
        "def textToTensor(text):\n",
        "    text_indexed = indexer.transform([text])[0] #Use the indexer to transform the text\n",
        "    tensor = torch.zeros(len(text_indexed), 1, vocab_size+1) #Create the tensor\n",
        "    for li, idx in enumerate(text_indexed): #Fill the tensor with a 1 at the posicion of each token in the vocabulary\n",
        "        tensor[li][0][idx] = 1\n",
        "    return tensor\n",
        "\n"
      ],
      "execution_count": 0,
      "outputs": []
    },
    {
      "cell_type": "markdown",
      "metadata": {
        "id": "1-08zVrJUZcQ",
        "colab_type": "text"
      },
      "source": [
        "Lets test the previous functions"
      ]
    },
    {
      "cell_type": "code",
      "metadata": {
        "id": "5d9GGtbSUWwc",
        "colab_type": "code",
        "outputId": "e7d83c37-473e-4e44-b33c-7ee5e8f814fc",
        "colab": {
          "base_uri": "https://localhost:8080/",
          "height": 153
        }
      },
      "source": [
        "indexer = Indexer()\n",
        "indexer.fit(X_train, vocab_size = 10, token_mincount = 0)\n",
        "vocab_size = len(indexer.vocab)\n",
        "print(indexer.token2idx)\n",
        "\n",
        "\n",
        "print(tokenToIndex('candidato'))\n",
        "example = textToTensor(\"Donald Trump es el presidente de los Estados Unidos\")\n",
        "print(example)\n",
        "print(example.size())"
      ],
      "execution_count": 0,
      "outputs": [
        {
          "output_type": "stream",
          "text": [
            "{'presidente': 0, 'millones': 1, 'personas': 2, 'país': 3, 'trump': 4, 'año': 5, 'unidos': 6, 'años': 7, 'nacional': 8, 'gobierno': 9}\n",
            "-1\n",
            "tensor([[[0., 0., 0., 0., 1., 0., 0., 0., 0., 0., 0.]],\n",
            "\n",
            "        [[1., 0., 0., 0., 0., 0., 0., 0., 0., 0., 0.]],\n",
            "\n",
            "        [[0., 0., 0., 0., 0., 0., 1., 0., 0., 0., 0.]]])\n",
            "torch.Size([3, 1, 11])\n"
          ],
          "name": "stdout"
        }
      ]
    },
    {
      "cell_type": "markdown",
      "metadata": {
        "id": "eb8kJ-xoU9AB",
        "colab_type": "text"
      },
      "source": [
        "A little text for torch.mean() that what we will use later"
      ]
    },
    {
      "cell_type": "code",
      "metadata": {
        "id": "-VEiITrXcfWc",
        "colab_type": "code",
        "outputId": "4865ca77-32de-4fb9-8314-4a5a12ea6ec2",
        "colab": {
          "base_uri": "https://localhost:8080/",
          "height": 85
        }
      },
      "source": [
        "m = torch.mean(example,axis=0)\n",
        "print(example.size())\n",
        "print(m)\n",
        "print(m.size())"
      ],
      "execution_count": 0,
      "outputs": [
        {
          "output_type": "stream",
          "text": [
            "torch.Size([3, 1, 11])\n",
            "tensor([[0.3333, 0.0000, 0.0000, 0.0000, 0.3333, 0.0000, 0.3333, 0.0000, 0.0000,\n",
            "         0.0000, 0.0000]])\n",
            "torch.Size([1, 11])\n"
          ],
          "name": "stdout"
        }
      ]
    },
    {
      "cell_type": "code",
      "metadata": {
        "id": "e6k_dB7-dVyz",
        "colab_type": "code",
        "outputId": "4738368e-9604-4aaa-9d56-22d40c0e4593",
        "colab": {
          "base_uri": "https://localhost:8080/",
          "height": 68
        }
      },
      "source": [
        "print(indexer.idx2token[4])\n",
        "print(indexer.idx2token[8])\n",
        "print(indexer.idx2token[3])\n"
      ],
      "execution_count": 0,
      "outputs": [
        {
          "output_type": "stream",
          "text": [
            "trump\n",
            "nacional\n",
            "país\n"
          ],
          "name": "stdout"
        }
      ]
    },
    {
      "cell_type": "markdown",
      "metadata": {
        "colab_type": "text",
        "id": "G9-PdK_G2yS2"
      },
      "source": [
        "##Creating the Network\n",
        "\n",
        "We will implement a feed-forward neural network. First we average the one-hot representations and pass the average to a fully conneted layer. The output is a softmax with the number of categories.\n",
        "\n",
        "\n"
      ]
    },
    {
      "cell_type": "code",
      "metadata": {
        "colab_type": "code",
        "id": "ve7ELkRr2yS3",
        "colab": {}
      },
      "source": [
        "\n",
        "class Model(nn.Module):\n",
        "    def __init__(self, vocab_size, num_class):\n",
        "        super().__init__()\n",
        "        self.fc = nn.Linear(vocab_size+1, num_class)#A fully connected layer\n",
        "        self.softmax = nn.LogSoftmax()\n",
        "    \n",
        "    def forward(self, text):\n",
        "        text = torch.mean(text,axis=0)#Average the one-hot representations.\n",
        "        output = self.fc(text)\n",
        "        output = self.softmax(output)\n",
        "        return output\n",
        "\n",
        "model = Model(vocab_size, n_categories)"
      ],
      "execution_count": 0,
      "outputs": []
    },
    {
      "cell_type": "markdown",
      "metadata": {
        "colab_type": "text",
        "id": "jCLtTHXl2yS5"
      },
      "source": [
        "To run this network we need to pass an input (in our case, the\n",
        "Tensor for the token). We'll get back the output (probability of\n",
        "each category).\n",
        "\n",
        "\n"
      ]
    },
    {
      "cell_type": "code",
      "metadata": {
        "id": "YIX5R5MMGzDR",
        "colab_type": "code",
        "outputId": "2c752d80-6a00-4302-9c6a-990b2d2bfd8d",
        "colab": {
          "base_uri": "https://localhost:8080/",
          "height": 105
        }
      },
      "source": [
        "input_token = tokenToTensor(\"Trump\")\n",
        "print(input_token.size())\n",
        "output = model(input_token)\n",
        "print(output.size())"
      ],
      "execution_count": 0,
      "outputs": [
        {
          "output_type": "stream",
          "text": [
            "torch.Size([1, 11])\n",
            "torch.Size([5])\n"
          ],
          "name": "stdout"
        },
        {
          "output_type": "stream",
          "text": [
            "/usr/local/lib/python3.6/dist-packages/ipykernel_launcher.py:11: UserWarning: Implicit dimension choice for log_softmax has been deprecated. Change the call to include dim=X as an argument.\n",
            "  # This is added back by InteractiveShellApp.init_path()\n"
          ],
          "name": "stderr"
        }
      ]
    },
    {
      "cell_type": "markdown",
      "metadata": {
        "colab_type": "text",
        "id": "K5_n8lXL2yS9"
      },
      "source": [
        "Now lets test ``textToTensor`` instead of\n",
        "``wordToTensor``. This will be further optimized by\n",
        "pre-computing batches of Tensors.\n",
        "\n",
        "\n"
      ]
    },
    {
      "cell_type": "code",
      "metadata": {
        "id": "d1wuvCzNGzDU",
        "colab_type": "code",
        "outputId": "cd9946b5-7f90-4308-ab61-a35d0fab9cd0",
        "colab": {
          "base_uri": "https://localhost:8080/",
          "height": 105
        }
      },
      "source": [
        "input_text = textToTensor(\"Donald Trump es el presidente de los Estados Unidos\")\n",
        "print(input_text.size())\n",
        "output = model(input_text[0])\n",
        "print(output.size())"
      ],
      "execution_count": 0,
      "outputs": [
        {
          "output_type": "stream",
          "text": [
            "torch.Size([3, 1, 11])\n",
            "torch.Size([5])\n"
          ],
          "name": "stdout"
        },
        {
          "output_type": "stream",
          "text": [
            "/usr/local/lib/python3.6/dist-packages/ipykernel_launcher.py:11: UserWarning: Implicit dimension choice for log_softmax has been deprecated. Change the call to include dim=X as an argument.\n",
            "  # This is added back by InteractiveShellApp.init_path()\n"
          ],
          "name": "stderr"
        }
      ]
    },
    {
      "cell_type": "markdown",
      "metadata": {
        "colab_type": "text",
        "id": "46DAlx2M2yTA"
      },
      "source": [
        "As you can see the output is a ``<1 x n_categories>`` Tensor, where\n",
        "every item is the likelihood of that category (higher is more likely).\n",
        "\n",
        "\n"
      ]
    },
    {
      "cell_type": "markdown",
      "metadata": {
        "colab_type": "text",
        "id": "CdFzWf4K2yTB"
      },
      "source": [
        "##Training\n",
        "###Preparing for Training\n",
        "\n",
        "Before going into training we should make a few helper functions. The\n",
        "first is to interpret the output of the network, which we know to be a\n",
        "likelihood of each category. We can use ``Tensor.topk`` to get the index\n",
        "of the greatest value:\n",
        "\n",
        "\n"
      ]
    },
    {
      "cell_type": "code",
      "metadata": {
        "colab_type": "code",
        "outputId": "cb87499d-7f80-4142-b8da-4c3bfb836d29",
        "id": "Pev4tdLv2yTB",
        "colab": {
          "base_uri": "https://localhost:8080/",
          "height": 34
        }
      },
      "source": [
        "def categoryFromOutput(output):\n",
        "    top_n, top_i = output.topk(1)\n",
        "    category_i = top_i[0].item()\n",
        "    return le.inverse_transform([category_i]), category_i\n",
        "\n",
        "print(categoryFromOutput(output))"
      ],
      "execution_count": 0,
      "outputs": [
        {
          "output_type": "stream",
          "text": [
            "(array(['sociedad'], dtype='<U13'), 4)\n"
          ],
          "name": "stdout"
        }
      ]
    },
    {
      "cell_type": "markdown",
      "metadata": {
        "colab_type": "text",
        "id": "V2JGIQlS2yTE"
      },
      "source": [
        "We will also want a quick way to get a training example (a text and its\n",
        "category):\n",
        "\n",
        "\n"
      ]
    },
    {
      "cell_type": "code",
      "metadata": {
        "colab_type": "code",
        "outputId": "6b2e8117-7ee1-4fbd-b1e9-493dafad9285",
        "id": "iLKFoE_v2yTF",
        "colab": {
          "base_uri": "https://localhost:8080/",
          "height": 207
        }
      },
      "source": [
        "def randomTrainingExampleBoW():\n",
        "    #sample an index\n",
        "    i = random.randint(0, len(y_train) - 1)\n",
        "\n",
        "    #take the category and the text using the index\n",
        "    category = y_train[i]\n",
        "    text = X_train[i]\n",
        "\n",
        "    #make them tensors\n",
        "    category_tensor = torch.tensor([category], dtype=torch.long)\n",
        "    text_tensor = textToTensor(text)\n",
        "    return category, text, category_tensor, text_tensor\n",
        "\n",
        "for i in range(10):\n",
        "    category, text, category_tensor, text_tensor = randomTrainingExampleBoW()\n",
        "    print('category =', category, '/ text =', text)"
      ],
      "execution_count": 0,
      "outputs": [
        {
          "output_type": "stream",
          "text": [
            "category = 2 / text =   Los familiares de internos que se encuentran al interior de la Ex Penitenciaría están realizando una manifestación en las afueras del lugar.  El motivo de esta manifestación en por una modificación al decreto ley 321 que tiene relación la libertad condicional, cambio que están calificando como de “ilegal”.  Según denunciaron, los internos mantienen una huelga de hambre hace 14 días para exigir que se vuelva a restaurar los anteriores beneficios para postular a la libertad condicional.  De acuerdo a unos panfletos que están entregando los familiares, indican que “la modificación decreto ley 321 sobre libertad condicional alarga los tiempos de postulación , afectando no solo al preso, sino también a la familia que acompaña y es parte de este proceso de reinserción”.  “Deben respetarse las condiciones de postulación existentes al momento de ser condenados”, añadieron.  Debido a la manifestación, el tránsito estuvo interrumpido en avenida Pedro Montt con Luis Cousiño. Carabineros se encuentra en el lugar, pero no ha intervenido.  Rodrigo Pino | RBB  Rodrigo Pino | RBB  Rodrigo Pino | RBB  Rodrigo Pino | RBB  \n",
            "category = 1 / text =   La tarde del domingo, por causas que se investigan, un incendio arrasó  con el Museo Nacional de Río de Janeiro , uno de los recintos culturales más antiguos del vecino país.  Pese a que no se registraron víctimas fatales, las llamas destruyeron miles de piezas en un edificio que guardaba cerca de 20 millones de elementos para exponer . Los daños son incuantificables.        200 años de historia devorados: las dramáticas imágenes del incendio en museo de Brasil    Entre los tesoros que preservaba el museo había momias egipcias , artefactos grecorromanos, un esqueleto de dinosaurio encontrado en Minas Gerais y los restos de Luzia, el fósil humano más antiguo hallado en Brasil.  La noticia del incendio dio la vuelta al mundo, con videos y fotos de la destrucción, al igual que el lamento de la comunidad educativa y científica ante la destrucción de 200 años de historia .  Pero la cadena O Globo mostró otra parte de la tragedia: la pena de los funcionarios del museo, quienes se acercaron a tratar de ayudar, pero terminaron contemplando cómo lugar de trabajo ardía en llamas.  El registro de video fue compartido a través de la cuenta de Instagram del medio con la reseña “trabajadores intentan entrar en la Quinta de Boa Vista (parque donde se emplaza el recinto) y son sacados por la policía”.   \n",
            "category = 2 / text =   Suspenden preventivamente la instalación de pilotes en las obras del puente Chacao, en la región de Los Lagos. El MOP descartó que represente retrasos en el proyecto.  Como medida de seguridad, los trabajos se encuentran paralizados, a la espera de un documento que formalice la autorización de faenas sin restricciones .  La información entregada por el inspector fiscal de la obra detalla que una grúa impactó con la pilotera durante maniobras de izaje. Esto se debió a que el operador bajó el gancho, pero el cable se enredó.  El seremi de Obras Públicas, James Fry, comentó que el percance no representa retrasos en la obra del futuro viaducto que busca unir a Chiloé con el continente.    La autoridad marítima realizó una visita inspectiva a plataforma Jack Up, sin detectar daño aparente, concluyendo con el consorcio y la empresa Vivargo que la grúa puede ser operada sin restricciones, pero deben entregar formalmente los certificados del servicio técnico o fabricante que autorizaran su uso.  Los resultados de la investigación del incidente se encuentran pendientes.  \n",
            "category = 2 / text =   En recuperación continúan los 80 animales que hace una semana fueron rescatados desde un criadero ilegal en Providencia, en un operativo que reveló las pésimas condiciones en que se mantenían 73 perros, tres gatos y 7 cacatúas ninfa.  Del total, los perros que se encontraban en peores condiciones se mantienen internados en una clínica en convenio con el municipio, mientras que el resto permanece en fundaciones y hogares temporales de particulares.        Internados, en fundaciones y hogares temporales: el estado de perritos rescatados de criadero ilegal    A dos días que se realizara el operativo, la fundación Apla en conjunto con la Defensoría de Derechos Animales presentaron una querella contra el único detenido por el momento, Claudio Javier Parra Hidalgo, que tras ser formalizado por maltrato animal quedó en libertad , con las cautelares de arraigo nacional y firma mensual durante los 120 días decretados como plazo de investigación.  Así, a la persecución del Ministerio Público se suma esta querella, que en el texto detalla que “estos animales se hallaban en condiciones de hacinamiento, siendo encerrados en espacios reducidos, además de encontrarse en un estado físico deteriorado, con cuadros de estrés y deshidratación, sin contar con los cuidados mínimos indispensables para cada una de estas especies”.  El abogado que patrocina esta acción es José Binfa Alvárez, quien en conversación con BioBioChile sostuvo que esperan poder reformalizar al imputado, sumando al menos dos delitos más de acreditarse algunas acusaciones que circulan en torno al imputado.  Esto es el delito de recepctación , ya que muchos de los animales mantenían chip; y ejercicio ilegal de la profesión , puesto que hay acusaciones sobre que se haría pasar por veterinario, llegando incluso a practicar cesáreas.  La alcaldesa Evelyn Matthei aseguró que “este tipo se hacía pasar por veterinario” y señaló que “en general los vecinos tenían algún tipo de agradecimiento hacia él porque le trataba a los perros” por lo que no habían realizado ninguna alerta por el olor.  Sin embargo, al llegar un vecino nuevo al sector, denunció el mal olor proveniente del inmueble y se llevó a cabo el operativo.  Si bien el delito de ejercicio ilegal de la profesión no ha sido aún imputado, de reformalizarlo y ser hallado culpable, las penas van de 61 días a 301 días en su tramo mínimo y de 302 a 540 días en su grado máximo.  Por el delito de receptación, la legislación establece penas desde 61 días, por lo que en la práctica por si solo no conllevaría penas privativas de libertad, sino que podría cumplir con arresto domiciliario o libertad vigilada.  Eso sí, el abogado José Binfa explicó que con la modificación de la Ley de Tenencia Responsable, “el legislador cambia el tipo penal, de causar daño al animal individual”, por lo que estaríamos en presencia del delito reiterado de maltrato por cada animal que se acredite con los informes veterinarios que se afectó su integridad.  Por un delito de maltrato arriesga de 61 días a 3 años , en este caso, si se considera la reiteración, se podría ampliar hasta un grado, llegando a penas de cinco años.  Entre las diligencias solicitadas por los querellantes se encuentra “registrar todo dispositivo electrónico que utilizaba el imputado y analizar los mensajes enviados y recibidos, el tráfico de datos en internet, cuentas virtuales, redes sociales y contactos telefónicos, a fin de determinar si existen más animales afectados u otros intervinientes en calidad de autor, cómplice o encubridor de delitos”.  También se solicitó “empadronar y citar a los vecinos del sector donde ocurrieron los hechos”, quienes de acuerdo a la información del municipio, habrían tenido buena relación con el imputado.   Este artículo describe un proceso judicial en curso  Existe la posibilidad de que los cargos sean desestimados al finalizar la investigación, por lo cual NO se debe considerar al o los imputados como culpables hasta que la Justicia dicte sentencia en su contra. (Artículo 04 del Código Procesal Penal)   \n",
            "category = 2 / text =   La Dirección Meteorológica de Chile emitió una alerta meteorológica de precipitaciones de intensidad normal a moderadas, acompañadas de viento de igual intensidad entre las regiones de Bío Bío y Los Lagos.  El evento meteorológico se podría registrar en las regiones del Bío Bío, La Araucanía, Los Ríos y Los Lagos.  Se estima que las precipitaciones comiencen durante la madrugada de este miércoles 1 de mayo y podrían continuar hasta el jueves 2 de mayo.  Dirección Meteorológica de Chile  En la región de Los Lagos durante la madrugada se podrían registrar precipitaciones con máxima intensidad, extendiéndose a la región de Los Ríos y a la precordillera y cordillera de La Araucanía, continuando para el día jueves 2 de mayo en los sectores de la precordillera y cordillera del tramo sur de la región de Bío Bío.  Otro de los avisos emitidos por la Dirección Meteorológica de Chile, aseguran que estas precipitaciones serán de características líquidas asociadas a una isoterma cero alta, es decir, lluvia donde suele nevar.  Dirección Meteorológica de Chile  A esto se le suma la emisión de aviso de precipitaciones de intensidad normal a moderada, acompañadas de viento desde la región del Maule hasta la región de Aysén.  \n",
            "category = 2 / text =   Un llamado a respetar a los ejemplares de la fauna silvestre realizó el Servicio Agrícola y Ganadero (SAG) Bío Bío, tras el hallazgo en Los Ángeles de un ave fracturada y con un posible proyectil en su interior.  Se trata de un Elanus leucurus , más conocido como “bailarín”, cuyo ejemplar fue encontrado por vecinos del sector El Pedregal de la capital provincial de Bío Bío.  Actualmente el ave se encuentra en el Hospital Clínico Veterinario de la Universidad San Sebastían por la fractura en su ala derecha y la presencia de un objeto metálico, presumiblemente un perdigón , según la radiografía realizada en la clínica veterinaria Pehuén de Los Ángeles.  El director regional del SAG Bío Bío, Iván Ramírez, explicó que es necesario que exista un aviso al servicio cuando ocurran este tipo de situaciones.  “Nosotros queremos que las personas nos ayuden en esto cuando corresponda”, señaló Ramírez, pero también recalcó que cuando se realizan avistamientos de aves que no presentan problemas, las dejen tranquilas.    Además agregó que cuando encuentren una especie herida, existe la posibilidad de entregarlo directamente, pero con los resguardos correspondientes y de esa manera ganar tiempo importante para la recuperación del ejemplar.   Junto con esto, desde el SAG llamaron a respetar y valorar los ejemplares de fauna silvestre , los que tienen un rol fundamental en el equilibrio ecológico del medio ambiente y son benéficos para agricultura.  En el caso del bailarín, también conocido como peuco blanco, es un ave que, de acuerdo a los estudios, basa su dieta principalmente en roedores , cumpliendo un importante papel en la mantención del equilibrio de las poblaciones de esas especies.  Cedida  \n",
            "category = 1 / text =   El Ecuador es un país con una singular relación con el océano: sus aguas territoriales abarcan un área cinco veces superior a su extensión terrestre. En esa amplísima superficie de cerca de un millón y medio de kilómetros cuadrados (un área más grande que el Perú), existen 24 ecosistemas marinos y costeros de los 27 reconocidos a nivel global. En las aguas del Ecuador , además, a mil kilómetros del continente, está uno de los santuarios naturales más importantes del planeta: las islas Galápagos, cuya preservación ha sido fundamental para comprender cómo funciona la vida en nuestro planeta. La existencia del archipiélago ha hecho que la administración, gestión y conservación de los mares ecuatorianos esté regida por la legislación general que abarca la costa continental, y un régimen especial aplicable únicamente a las Galápagos. La conservación de las especies y recursos marinos se ha convertido en un reto para el Estado ecuatoriano, no siempre con resultados satisfactorios. Este reporte revisa ciertas áreas de especial interés, y preocupación, de la situación de los mares del país.  Pesca ilegal y sobreexplotación  En agosto de 2017, el barco carguero chino Fu Yuan Yu Leng 999 fue detenido cuando atravesaba las aguas de la reserva marina del parque nacional Galápagos con 300 toneladas de pesca, entre ellas especies protegidas. Los reportes de prensa iniciales hablaban de más de seis mil tiburones en la embarcación. La reserva marina de Galápagos es una especie de corona imaginaria de 40 millas náuticas que rodea las 330 islas, islotes y rocas que conforman el archipiélago en el que Charles Darwin encontró, a mediados del siglo XIX, las especies que evidenciaban su teoría de la evolución.  Fu Yuan Yu Leng: embarcación china interceptada por la Armada del Ecuador  La detención del barco chino produjo una intensa indignación en el Ecuador. Un año después, el caso ha sido olvidado por un país sumido en discusiones políticas coyunturales. La discusión que se podría haber generado sobre la sobreexplotación de recursos marinos y la pesca ilegal jamás se dio. “La realidad es que en el Ecuador se pesca irregularmente todos los días”, dice Felipe Vallejo, director de la organización no gubernamental Equilibrio Azul. El problema es cotidiano y antiguo. Cuando se creó, en 1988, la reserva marina de Galápagos, para intentar controlar la pesca ilegal los barcos pesqueros chinos “se ponían en el límite para recibir el pepino de mar que era capturado por la gente de Galápagos” dice Santiago Bucaram, economista especializado en recursos costeros. Fue tal la avidez por el pepino de mar, altamente apetecido en Asia, que en apenas tres décadas la especie se puso en riesgo de extinción.  En Galápagos hay 38 especies de pepino de mar, pero solo una se pesca para comercializar. Tal fue la depredación de la especie que en 1992 se prohibió definitivamente su pesca, pero, en la práctica, jamás se detuvo. Desde 2004, el número ha estado por debajo de 13,5 pepinos por cada 100 metros cuadrados . Desde entonces solo ha caído.  Pescadores artesanales de Galápagos, Ecuador. Foto: depositphotos.  El escándalo por el buque chino con las 300 toneladas de pesca ilegal terminó con una declaración triunfalista del entonces Ministro de Ambiente. Pero la pesca ilegal en el Ecuador no viene solo de las flotas industriales —nacionales y extranjeras— que operan en áreas adyacentes a la zona económica exclusiva de Ecuador.Santiago Bucaram, explicaba en 2017 que para las especies altamente migratorias en peligro de extinción, como los tiburones, la actividad pesquera de la flota artesanal palangrera del Ecuador continental era también un riesgo. El palangre es un arte de pesca de alto impacto, que consiste en una línea horizontal de varios kilómetros de las que salen varias líneas de anzuelos.  Un palangre puede tener diez mil anzuelos, que atrapan todo cuanto pasa por ellos. Diseñado para la pesca comercial (picudos, pez espada, atunes, DORADOS), por su dimensión y su incapacidad para distinguir entre especies, también captura, tortugas, lobos y aves marinas, mantarrayas y, por supuesto, tiburones. Felipe Vallejo dice que a los tiburones se los ha pescado tanto que “ los están acabando en el mar continental.incluso en áreas protegidas ya no se los ve. En cambio, uno va a cualquier puerto pesquero y ve tiburones muertos por todos lados”. Según un informe de WWF, los recursos sobreexplotados en el Ecuador son peces pelágicos pequeños —como la sardina o pinchagua, la macarela y el chuhueco—, ciertas especies de peces demersales, de lento crecimiento como los pargos, los meros y las chernas la concha prieta y el cangrejo azul. El tiburón ocupa un lugar especial en la sobreexplotación, porque su pesca en el Ecuador solo está permitida si es incidental. Es decir, si se los atrapa por accidente.  Lobo de mar lastimado por anzuelo. Foto: Carolina Larrea.  La flota artesanal continental ecuatoriana está compuesta por más de 45 mil embarcaciones. La mayoría zarpa del puerto de Manta hacia las Galápagos. La definición de ‘pesca incidental’ fue hecha en un decreto ejecutivo firmado por el entonces presidente Rafael Correa (en julio de 2007). Según explica Bucaram, es arbitraria porque “quienes deciden la condición de incidentalidad de la captura son los mismos pescadores”. De acuerdo a un estudio de 2015 , se capturan, por los menos, un cuarto de millón de tiburones cada año. Según Bucaram, “esta cifra hace dudar que la pesca de tiburón, hecha por la flota artesanal ecuatoriana, sea incidental. Por el contrario, más parece una pesca dirigida: el objetivo no declarado de dicha flota”. Bucaram explica en su ensayo que una porción sustancial de la captura de estos tiburones se obtiene en el borde de la reserva marina de Galápagos. “ Las embarcaciones artesanales ecuatorianas no están obligadas a llevar sistemas satelitales de rastreo , por lo que potencialmente podrían haber ingresado, desde el continente, sin ser detectadas a las aguas de la reserva marina para pescar.” Una fuente que pidió que su identidad se mantenga en reserva dijo a Mongabay Latam que la pesca dirigida de tiburones, tanto en el continente como en las Galápagos, es un secreto a voces: “Los pescadores dicen ‘ah ponemos esa arte de pesca -el palangre- porque es la buena para tiburones’. Lo hacen de forma totalmente abierta, y es irónico porque también es super oculto: el gobierno insiste en que no hay pesquería de tiburón”.  Tiburones capturados en el malecón de Puerto López, Ecuador. Foto: Rocío Muñoz  La falta de estadísticas es un problema grave en el Ecuador, país que, según la Organización de Naciones Unidas para la Alimentación y la Agricultura (FAO), es uno de los 25 en el mundo con mayor producción de pesca en el mar . De acuerdo al organismo, la producción ecuatoriana pasó de 643.176 toneladas en 2015 a 715.357 el año siguiente: un incremento de más del 11%. Según la Cámara Nacional de Pesquería —que aglutina a la mayor parte de la flota atunera ecuatoriana y de pelágicos pequeños, a industrias de producción de pescado fresco, congelado, en conservas y harineras— entre 2012 y 2017, la pesca aportó anualmente al Ecuador alrededor de 1.500 millones de dólares en exportaciones. . Además, dice el gremio, la industria emplea directamente a alrededor de 108 mil personas. La industria formal que es, en términos económicos, altamente productiva, tiene un costo en conservación: es tan grande que el Estado no alcanza a monitorear y vigilar la actividad pesquera en el Ecuador —lo que permite que la pesca ilegal prospere, explica el exfuncionario de pesca.  Un exfuncionario del Ministerio de Acuicultura y Pesca dice a Mongabay Latam que en el Ecuador no hay una medida ni cuantificación oficial de cuánto suma la pesca ilegal en el país. Hay “hay mucha ‘cifra negra’”, dice el exfuncionario. En el Ecuador hay cerca de 300 inspectores de pesca, pero “no todos están cumpliendo su labor. Es algo que pasa en todo el mundo, si el fiscalizador no hace bien su trabajo, la cifra reportada no es verdadera.”  La información de cuánto produce la pesca ilegal, en términos económicos, es solo referencial. El precio del kilo de la aleta de tiburón es de 650 dólares . Si el barco chino, que fue detenido en 2017 en la reserva marina de Galápagos, llevaba 300 toneladas de tiburón y la aleta es el 5% del peso de un tiburón promedio, podría decirse que el carguero llevaba unas 15 toneladas de aletas: potencialmente casi diez millones de dólares solo en esa captura. Vallejo considera que a la hora de determinar cuánto le cuesta al Ecuador la pesca ilegal, es necesario considerar el dinero público invertido en producción pesquera. “Al igual que en otros países, toda esta sobrepesca es subsidiada, si no, la pesquería no sería negocio”. Por ejemplo, en el Ecuador, los combustibles que utilizan los pescadores en sus embarcaciones están subsidiados. “La pesca recibe varios tipos de subsidios y apoyos que, sumados, dan muchos millones de dólares al año”. Es así como Vallejos sentencia que “vamos a terminar con las especies marinas con plata pública” dice.  Más de 9.500 toneladas de plásticos vertidos al mar  La contaminación por plástico es uno de los mayores desafíos ambientales en los océanos del planeta. Cada año, se vierten en los mares del mundo hasta 13 millones de toneladas de este material. La producción de plástico, según el programa para el medioambiente de las Naciones Unidas, seguirá su curva ascendente: de casi cero en la década de 1950 se ha disparado hasta 262 millones de toneladas en 2013. Para 2050, se estima que la producción alcanzará las 1.800 toneladas.  Estudio señala que casi la mitad de las especies de rayas mobula están amenazadas por los microplásticos. Foto: Elitza Germanov / Fundación Megafauna Marina.  Según cifras de gobierno , en las áreas costeras del Ecuador viven cerca de 2 millones de personas: el 13% de la población total. De las más de 4.100.000 toneladas de desechos que se producen en el país anualmente, el 11% corresponde a plástico. Es decir, 451 mil toneladas. Aunque no existen cifras claras sobre qué porcentaje de ese total llega hasta el mar ecuatoriano, el informe Basura Marina del programa para el medioambiente de las Naciones Unidas, estima que más de 9.500 toneladas de plásticos vierte el país al océano pacífico. El equivalente al peso de 48 ballenas azules, el mamífero más grande del planeta.  A pesar de ello, un informe de las Naciones Unidas señala que “el país ha impulsado una serie de medidas para fomentar el “desarrollo limpio” y abordar el problema de la contaminación desde tierra firme”.  En efecto, el Ecuador es parte de la campaña Mares Limpios de la ONU , que busca que “los gobiernos, las empresas y la sociedad civil se comprometan para reducir drásticamente la contaminación por plásticos en los océanos”.  Durante las jornadas de limpieza que se han realizado en Colombia se han sacado toneladas de llantas y plásticos. Foto: Comisión Colombiana del Océano (CCO).  En 2014, el Consejo de Gobierno del Régimen Especial de Galápagos prohibió el comercio, distribución, expendio y entrega de bolsas plásticas desechables. Según una nota del programa de Ambiente de las Naciones Unidas, un programa de gestión de residuos en la isla de Santa Cruz, la más poblada de las Galápagos, ha logrado hasta un 45% de recuperación de residuos sólidos reciclables, el porcentaje más alto en Ecuador.  La investigadora Kate Huyvaert, de la Universidad de Colorado, señala en una investigación que la presencia de plástico en los cadáveres de pichones de albatros muertos en la isla Española, en las Galápagos, era de 0% en 2007. Cuatro años después, había subido a 20% y en 2016, encontró plástico en cuatro de cada diez casos. Un reporte de la organización no gubernamental Mingas por el mar , dice que entre el 25 de marzo y el 30 de junio de 2018 recogió más de 4 mil kilos de plásticos en jornadas de limpieza comunitaria en 26 playas de 2 localidades del Ecuador. De esas cuatro toneladas, el 17% eran insumos de pesca abandonados. El 83% restante, era basura producida en centros urbanos. De ese total, apenas el 16% era material reciclable.  Estado de conservación  Felipe Vallejo, de la fundación Equilibrio Azul, dice que la situación de los océanos en el Ecuador es más precaria que nunca: “contaminación, impacto pesquero, cambio climático, no hay datos completos como en otros países”. Vallejo señala que “hay mucha gente valiosa en el Ministerio del Ambiente y en las áreas marinas protegidas, a la que le interesa de verdad preservar los mares ecuatorianos, pero el principal problema es la falta de recursos”.  Según Felipe Vallejo, las declaratorias de áreas protegidas no siempre son eficientes: “Muchas de estas áreas marinas son áreas protegidas de papel: están en un decreto, pero la realidad es que no hay ningún tipo de protección.. Si decretamos áreas protegidas pero no las dotamos de recursos, en realidad no cuidamos al mar”  Tortuga marina en Galápagos, Ecuador. Foto: depositphotos.  En el parque nacional Machalilla, al igual que en la reserva marina de Galápagos, dice un funcionario del Ministerio de Pesca que prefiere el anonimato, “se pesca todos los días, aunque se supone que está prohibido”. Ni siquiera Galápagos, que es la que mayores recursos tienes, alcanza a ser debidamente controlada: la dirección del parque nacional Galápagos tiene cuarenta funcionarios en tareas de control y patrullaje, dos lanchas oceánicas, cinco lanchas costeras rápidas, dos botes inflables para bahía y un hidroavión. Es muy difícil abarcar el mar que debe controlar con tan limitados recursos.  La Red de Áreas Marinas y Costeras Protegidas de Ecuador Continental (Esmeraldas, Manabí, Guayas, El Oro y Santa Elena), actualmente está conformada por 19 áreas en las 5 provincias costeras del Ecuador continental y abarcan una superficie de 679.295 hectáreas. A esas áreas se suman los dos parques nacionales costeros: Galápagos y su reserva marina, y el parque nacional Machalilla.  El país es parte del Corredor Marino del Pacífico Este Tropical (CMAR), una iniciativa regional liderada por los gobiernos de Costa Rica, Panamá, Colombia y Ecuador. “La iniciativa busca la adecuada gestión de la biodiversidad y los recursos marinos y costeros, mediante un manejo ecosistémico y establecimiento de estrategias regionales gubernamentales conjuntas”, explica el Ministerio de Defensa. “Esta decisión se implementa a través de áreas núcleo, en nuestro país, son las Islas Galápagos”. El CMAR tiene entre sus propósitos, propiciar el manejo y la conservación de los recursos marinos, mejorar y consolidar la gestión de las Áreas Marinas Protegidas que conforman el corredor, establecer un marco regional que facilite el desarrollo y le gestión integral del corredor, compatible con las políticas y legislaciones nacionales, entre otros.  Reserva Nacional Machalilla, Ecuador. Foto: depositphotos.  Según el Ministerio de Ambiente, a través de la Subsecretaría de Gestión Marina y Costera, desarrolla “algunos proyectos de cooperación alineados a las necesidades de esta zona, con fondos del GEF, de la BMZ; organismos intergubernamentales y cooperación técnica como FAO, PNUD, COI UNESCO, GIZ y organizaciones no gubernamentales, como WWF, CI Ecuador”. Además, dice el Ministerio, una de las prioridades del Ecuador ha sido la preservación del ecosistema manglar, “a través de los Acuerdos de Uso Sustentable y Custodia del Manglar entregados a usuarios tradicionales y ancestrales de este ecosistema, promueve la conservación y aprovechamiento sostenible de sus recursos”. Según el organismo, se habrían entregado 52 acuerdos que abarcan una superficie de más de 68 mil hectáreas de manglar.  La amenaza de los derrames de petróleo  El Ecuador es un país petrolero. A diferencia de la idea generalizada, el primer hallazgo de crudo no fue en la Amazonía, sino en el pequeño pueblo pesquero de Ancón, donde en 1911 una compañía británica explotó los primeros pozos petroleros del país. Más de un siglo después, el mar del Ecuador sigue repleto de petróleo y gas licuado. Junto al de Ancón, hay 10 campos petroleros. Al sur, cerca del refugio de vida silvestre isla Santa Clara, está el campo Amistad.  La península de Santa Elena, el punto más saliente del país hacia el Pacífico, está divida en bloques petroleros marcados desde la B01 a la B05. Son los únicos bloques petroleros ecuatorianos que no están en la Amazonía, donde existen 82 más.  Galápagos. Vista desde la playa de Cerro Brujo. Foto: Rhett A. Butler.  El derrame de petróleo es una amenaza constante en el océano ecuatoriano. En 2008, la rotura de una tubería en la refinería de Santa Elena, contaminó casi un kilómetro cuadrado en aguas de la costa frente al balneario de La Libertad y cerca de Puerto Lucía. En los últimos 5 años ha habido al menos un derrame de petróleo considerable en Esmeraldas. El más reciente, fue en la playa de Las Palmas, donde se derramaron 20 barriles de crudo liviano. La zona, muy cercana a la frontera con Colombia, vive en un estado de abandono y desidia hace varias décadas, registrando los números más altos pobreza, analfabetismo y homicidios por cada cien mil habitantes.  Proyectos de ley detenidos en la Asamblea Nacional  Las medidas de conservación y protección de los espacios marinos en el Ecuador están plasmadas en una serie de cuerpos legales. La norma suprema que rige el cuidado de los oceanos en el país es la Constitución de la República, “a través de los artículos relacionados a los derechos de la naturaleza, ecosistemas frágiles y conservación del patrimonio natural del Estado”, según el Ministerio de Ambiente.  Además, a nivel internacional, el Ecuador está adherido a algunos convenios Internacionales como la Organización Marítima Internacional, Convención de las Naciones Unidas sobre el Derecho del Mar (CONVEMAR), el convenio Internacional para Prevenir la Contaminación por los Buques (MARPOL). “El país, en el marco de la Agenda 2030 y del Objetivo de Desarrollo Sostenible No. 14, presentó 14 compromisos voluntarios nacionales que contribuirán a la protección del océano” dice el Ministerio de Ambiente.  Vista aérea de Punta Cormorant, en la isla Floreana, hábitat histórico de la Pseudalsophis biserialis biserialis. Foto cortesía de la Dirección del Parque Nacional Galápagos  La Ley de Pesca, que data de 1974, es quizá la pieza de legislación que mayor incidencia tenga en la salud de los océanos en el Ecuador, por la gran dimensión de sus flotas pesqueras, tanto industrial, como artesanal.  En la Asamblea Nacional del Ecuador (el poder legislativo) reposan tres proyectos de reforma a esta ley, sin que ninguno haya prosperado. El Ministerio de Acuacultura y Pesca redactó, en diciembre de 2017, un proyecto de ley para sustituir completamente a la actualmente vigente. Santiago Bucaram, economista experto en recursos naturales, lo calificó de “un buen comienzo” que necesitaba “algunas mejoras”. Sin embargo, hasta septiembre de 2018, el proyecto de ley ni siquiera había sido presentado ante la Asamblea Nacional.  Sí, como dice Vallejo, el estado de los mares es el peor posible, y la falta de recursos es la constante, las declaraciones rimbombantes y sobreentusiastas del gobierno y los ministros de ambiente de turno no serán sino solo promesas de papel.  Por José María León Cabrera Este artículo fue publicado originalmente en Mongabay Latam  Respuesta Embajada de Ecuador en Chile  A raíz de la publicación de este artículo, la Embajada de Ecuador en Chile derivó a nuestro medio una nota en la cual aclara algunos de los puntos consignados, o rebate las cifras entregadas.  Como parte de su derecho a réplica, BioBioChile comparte íntegramente la carta derivada por el embajador, señor Homero Arellano Lascano .   Nota Embajada de Ecuador sobre artículo pesca ilegal by BioBioChile on Scribd   \n",
            "category = 1 / text =   Los rescatistas buscaban este martes a las decenas de personas que podrían haber quedado atrapadas en un edificio que se derrumbó la víspera cerca de Manila tras un potente sismo que dejó al menos 11 muertos, según un nuevo balance.  El balance anterior, anunciado la noche del lunes, daba cuenta de cinco muertos debido al temblor, de magnitud 6,3 según el Servicio Geológico de Estados Unidos (USGS).  El sismo, que provocó importantes daños en el aeropuerto internacional Clark, el aeródromo secundario de la capital, hizo temblar también los inmuebles de Manila, provocando escenas de pánico.  Este terremoto, que es el más fuerte que sufre la capital filipina en años, se produjo a las 17:11 locales (05:11 de Chile) a 40 km de profundidad, con epicentro en Castillejos, en la provincia de Zambales, unos 100 km al noreste de Manila.  Pero fue en la provincia vecina de Pampanga donde se registraron los daños materiales de mayor envergadura y donde murieron 11 personas, según las autoridades filipinas. También resultaron heridas decenas de personas en todo el archipiélago y el balance podría aumentar.  En la zona se desplegaron equipos de socorristas para evaluar los desperfectos, así como en localidades aisladas privadas de electricidad y de medios de comunicación.  En Porac, en la isla de Luzón, se libraba una carrera contrarreloj para retirar las ruinas de un edificio de cuatro pisos derrumbado en el que podría haber una treintena de personas atrapadas.  “Se oye al menos a una persona aún viva”, declaró a los periodistas Lilia Pineda, gobernadora de Pampanga. “Está atrapada bajo losas de cemento”  El temblor también dañó iglesias de hace varios siglos que en los últimos días habían recibido a una multitud de fieles para las misas de Semana Santa, en un archipiélago en el que el 80% de la población es católica.  Filipinas se encuentra en el “Cinturón de Fuego” del Pacífico, donde la colisión entre placas tectónicas suele provocar sismos y una importante actividad volcánica.  El sismo más mortífero en el archipiélago desde que se miden las magnitudes se produjo en 1976. Murieron miles de personas, según algunos cálculos hasta 8.000.  \n",
            "category = 1 / text =   Texas ejecutó a un hombre el martes que, junto con otros seis conocidos como los “Siete de Texas”, mató a un oficial de policía  en el año 2000, antes de ser arrestado gracias en parte al programa de televisión “America’s Most Wanted (Los más buscados de Estados Unidos)”.  Joseph Garcia, de 47 años, fue ejecutado por inyección letal y declarado muerto a las 18:43 hora local (21:43 de Chile) en Huntsville, anunciaron las autoridades texanas.  Condenado a 50 años de prisión por matar a un amigo durante una pelea, Garcia y otros seis presos participaron en una fuga de la prisión de alta seguridad de Connally, en el sur de Texas.  Los hombres atacaron a los guardias para conseguir sus uniformes y obligaron a otro a abrir la puerta. Uno de los padres de los presos les esperaba con un automóvil fuera de la prisión.  Para financiar su huida, los “Siete de Texas” saquearon negocios minoristas, y en la víspera de Navidad, atacaron una tienda de artículos deportivos en un suburbio de Dallas.  Cuando los hombres huyeron de la escena, mataron a Aubrey Hawkins, un joven oficial de policía que acudió a la zona para dar refuerzo , y que fue acribillado.  Las autoridades lanzaron una persecución, y ofrecieron una recompensa de 100.000 dólares, que llegó a aumentar a 500.000, para obtener información sobre la pandilla.  Después de la emisión de un episodio de “America’s Most Wanted”, un programa popular dedicado a la búsqueda de delincuentes peligrosos, varias personas informaron que se habían cruzado con los fugitivos.  Seis semanas después de su fuga, los hombres fueron detenidos en Colorado y uno de ellos se suicidó durante el arresto.  Los otros seis fueron declarados culpables del asesinato del oficial y condenados a muerte. Tres ya fueron ejecutados y dos más permanecen en el corredor de la muerte.  Los abogados de Garcia presentaron, sin éxito, una apelación de última hora ante el Tribunal Supremo para suspender la ejecución, argumentando que no fue el autor de los disparos fatales.  \n",
            "category = 2 / text =   En construcción se encuentran las jaulas para atrapar a los lobos marinos que dejaron más de 300 cisnes de cuello negro muertos en el Santuario de la Naturaleza Carlos Anwandter de Los Ríos, confirmó la seremi de Agricultura Moira Henzi.  Se trata de una parte de las Balsas-Jaulas propuestas por una mesa multisectorial convocada por el Gobierno, para atrapar y posteriormente trasladar al zoológico Buin Zoo , a los lobos marinos que el año pasado atacaron y mataron a los Cisnes de Cuello Negro en el Río Cruces.        Sernapesca ratifica traslado de lobos marinos que atacaron a cisnes de cuello negro en Valdivia    La seremi de Agricultura de Los Ríos, Moira Henzi, que coordina dicha mesa, confirmó a Radio Bío Bío que la Municipalidad de Valdivia hace una semana construye las jaulas, tras la donación de los elementos para ello, realizada por un anónimo.    La autoridad descartó que se hayan avistado a los lobos marinos juveniles que efectuaron los ataques a las aves protegidas, que recordemos se alejaron de la zona por estar en etapa de reproducción.  \n"
          ],
          "name": "stdout"
        }
      ]
    },
    {
      "cell_type": "markdown",
      "metadata": {
        "colab_type": "text",
        "id": "qez2B5MC2yTH"
      },
      "source": [
        "Training the Network\n",
        "--------------------\n",
        "\n",
        "Now all it takes to train this network is show it a bunch of examples,\n",
        "have it make guesses, and tell it if it's wrong.\n",
        "\n",
        "For the loss function ``nn.NLLLoss`` is appropriate, since the last\n",
        "layer of the model is ``nn.LogSoftmax``.\n",
        "\n",
        "\n"
      ]
    },
    {
      "cell_type": "markdown",
      "metadata": {
        "id": "aJyUzAC9X1LQ",
        "colab_type": "text"
      },
      "source": [
        "Lets split the dataset again and build the indexer with a bigger vocabulary."
      ]
    },
    {
      "cell_type": "code",
      "metadata": {
        "colab_type": "code",
        "id": "qxCSzh3i2yTL",
        "colab": {}
      },
      "source": [
        "indexer = Indexer()\n",
        "indexer.fit(X_train, vocab_size = 1000)\n",
        "vocab_size = len(indexer.vocab)"
      ],
      "execution_count": 0,
      "outputs": []
    },
    {
      "cell_type": "code",
      "metadata": {
        "colab_type": "code",
        "id": "bv4V8Q8b2yTN",
        "colab": {}
      },
      "source": [
        "model = Model(vocab_size, n_categories)"
      ],
      "execution_count": 0,
      "outputs": []
    },
    {
      "cell_type": "code",
      "metadata": {
        "colab_type": "code",
        "id": "13UlOqwh2yTQ",
        "colab": {}
      },
      "source": [
        "criterion = nn.NLLLoss()"
      ],
      "execution_count": 0,
      "outputs": []
    },
    {
      "cell_type": "markdown",
      "metadata": {
        "colab_type": "text",
        "id": "aAn_YKzt2yTS"
      },
      "source": [
        "Each loop of training will:\n",
        "\n",
        "-  Create input and target tensors\n",
        "-  Read each text in \n",
        "-  Compare final output to target\n",
        "-  Back-propagate\n",
        "-  Return the output and loss\n",
        "\n",
        "\n"
      ]
    },
    {
      "cell_type": "code",
      "metadata": {
        "colab_type": "code",
        "id": "E9cnE4f52yTT",
        "colab": {}
      },
      "source": [
        "learning_rate = 0.005 # If you set this too high, it might explode. If too low, it might not learn\n",
        "\n",
        "def train(category_tensor, text_tensor):\n",
        "\n",
        "    model.zero_grad()\n",
        "\n",
        "    output = model(text_tensor)\n",
        "\n",
        "    loss = criterion(output, category_tensor)\n",
        "    loss.backward()\n",
        "\n",
        "    # Add parameters' gradients to their values, multiplied by learning rate\n",
        "    for p in model.parameters():\n",
        "        p.data.add_(-learning_rate*p.grad.data)\n",
        "    return output, loss.item()"
      ],
      "execution_count": 0,
      "outputs": []
    },
    {
      "cell_type": "markdown",
      "metadata": {
        "colab_type": "text",
        "id": "afDLUNvU2yTV"
      },
      "source": [
        "Now we just have to run that with a bunch of examples. Since the\n",
        "``train`` function returns both the output and loss we can print its\n",
        "guesses and also keep track of loss for plotting. We print only every ``print_every`` examples, and take an\n",
        "average of the loss.\n",
        "\n",
        "\n"
      ]
    },
    {
      "cell_type": "code",
      "metadata": {
        "colab_type": "code",
        "id": "f3ufQwaS2yTW",
        "colab": {}
      },
      "source": [
        "\n",
        "import time\n",
        "import math\n",
        "def loop_training(batch = 1, example_generator=randomTrainingExampleBoW):\n",
        "    plot_every = 1000//batch\n",
        "\n",
        "    n_iters = plot_every*10\n",
        "    \n",
        "    # Keep track of losses for plotting\n",
        "    current_loss = 0\n",
        "    all_losses = []\n",
        "\n",
        "    def timeSince(since):\n",
        "        now = time.time()\n",
        "        s = now - since\n",
        "        m = math.floor(s / 60)\n",
        "        s -= m * 60\n",
        "        return '%dm %ds' % (m, s)\n",
        "\n",
        "    start = time.time()\n",
        "\n",
        "    for iter in range(1, n_iters + 1):\n",
        "        if batch>1:\n",
        "            category, text, category_tensor, text_tensor = example_generator(batch)\n",
        "        else:\n",
        "            category, text, category_tensor, text_tensor = example_generator()\n",
        "        output, loss = train(category_tensor, text_tensor)\n",
        "        current_loss += loss\n",
        "\n",
        "        \n",
        "        # Add current loss avg to list of losses\n",
        "        if iter % plot_every == 0:\n",
        "            all_losses.append(current_loss / plot_every)\n",
        "            current_loss = 0\n",
        "    return all_losses"
      ],
      "execution_count": 0,
      "outputs": []
    },
    {
      "cell_type": "code",
      "metadata": {
        "id": "W92qLG9UHqqJ",
        "colab_type": "code",
        "outputId": "404f0e43-dad7-4f59-a000-4b8efa2fd53c",
        "colab": {
          "base_uri": "https://localhost:8080/",
          "height": 357
        }
      },
      "source": [
        "%%time\n",
        "all_losses = loop_training(batch = 1, example_generator=randomTrainingExampleBoW)\n",
        "plt.figure()\n",
        "plt.plot(all_losses)"
      ],
      "execution_count": 0,
      "outputs": [
        {
          "output_type": "stream",
          "text": [
            "/usr/local/lib/python3.6/dist-packages/ipykernel_launcher.py:11: UserWarning: Implicit dimension choice for log_softmax has been deprecated. Change the call to include dim=X as an argument.\n",
            "  # This is added back by InteractiveShellApp.init_path()\n"
          ],
          "name": "stderr"
        },
        {
          "output_type": "stream",
          "text": [
            "CPU times: user 13.7 s, sys: 595 ms, total: 14.3 s\n",
            "Wall time: 14.5 s\n"
          ],
          "name": "stdout"
        },
        {
          "output_type": "display_data",
          "data": {
            "image/png": "[encoded data removed]",
            "text/plain": [
              "<Figure size 432x288 with 1 Axes>"
            ]
          },
          "metadata": {
            "tags": []
          }
        }
      ]
    },
    {
      "cell_type": "markdown",
      "metadata": {
        "id": "TwWDJSIMaZ2B",
        "colab_type": "text"
      },
      "source": [
        "##Batch processing\n",
        "Until now we trained with one example at each step. One of the reason of success of neural networks is parallel processing which is used best with batch processing."
      ]
    },
    {
      "cell_type": "markdown",
      "metadata": {
        "id": "VnCQLMy-cQFE",
        "colab_type": "text"
      },
      "source": [
        "This function creates a batch of examples with size ``<text_length x batch_size x vocab_size>``."
      ]
    },
    {
      "cell_type": "code",
      "metadata": {
        "colab_type": "code",
        "id": "Ia3vJg8G2yTf",
        "colab": {}
      },
      "source": [
        "def randomTrainingBatchBoW(batch_size):\n",
        "    categories = []\n",
        "    texts = []\n",
        "\n",
        "    #Select batch_size examples from (X_train,y_train)\n",
        "    for _ in range(batch_size):\n",
        "        i = random.randint(0, len(y_train) - 1)\n",
        "        category = y_train[i]\n",
        "        categories.append(category)\n",
        "        \n",
        "        text = X_train[i]\n",
        "        texts.append(text)\n",
        "\n",
        "    #Create the category_tensor from the categories sampled\n",
        "    category_tensor = torch.tensor(categories, dtype=torch.long)\n",
        "    \n",
        "    #Index each text (indexer.transform() takes as input a list of texts)\n",
        "    indexed_texts = indexer.transform(texts)\n",
        "\n",
        "    #Find the longest sequence in the batch\n",
        "    max_length = max([len(text) for text in indexed_texts])\n",
        "    \n",
        "    #Add padding the make all the sequence as long as the longest.\n",
        "    indexed_texts = [text+[vocab_size]*(max_length-len(text)) for text in indexed_texts]\n",
        "\n",
        "    #Create the tensor\n",
        "    text_tensor = torch.zeros([len(indexed_texts[0]), batch_size, vocab_size+1])\n",
        "\n",
        "    #Add the one to each position\n",
        "    for i,indexed_text in enumerate(indexed_texts):\n",
        "        for j,idx in enumerate(indexed_text):\n",
        "            text_tensor[j][i][idx] = 1\n",
        "    \n",
        "    return categories, indexed_texts, category_tensor, text_tensor\n"
      ],
      "execution_count": 0,
      "outputs": []
    },
    {
      "cell_type": "markdown",
      "metadata": {
        "id": "nPEiUujyef0G",
        "colab_type": "text"
      },
      "source": [
        "###Lets train now using batches"
      ]
    },
    {
      "cell_type": "code",
      "metadata": {
        "id": "rp58lhLjQPsL",
        "colab_type": "code",
        "colab": {}
      },
      "source": [
        "model = Model(vocab_size, n_categories)"
      ],
      "execution_count": 0,
      "outputs": []
    },
    {
      "cell_type": "code",
      "metadata": {
        "id": "3FsjQr6QAUbL",
        "colab_type": "code",
        "outputId": "286fa576-0d17-4075-c842-254d1e00e3ee",
        "colab": {
          "base_uri": "https://localhost:8080/",
          "height": 357
        }
      },
      "source": [
        "%%time\n",
        "all_losses = loop_training(batch=10, example_generator=randomTrainingBatchBoW)\n",
        "plt.figure()\n",
        "plt.plot(all_losses)"
      ],
      "execution_count": 0,
      "outputs": [
        {
          "output_type": "stream",
          "text": [
            "/usr/local/lib/python3.6/dist-packages/ipykernel_launcher.py:11: UserWarning: Implicit dimension choice for log_softmax has been deprecated. Change the call to include dim=X as an argument.\n",
            "  # This is added back by InteractiveShellApp.init_path()\n"
          ],
          "name": "stderr"
        },
        {
          "output_type": "stream",
          "text": [
            "CPU times: user 15.6 s, sys: 94.2 ms, total: 15.7 s\n",
            "Wall time: 15.7 s\n"
          ],
          "name": "stdout"
        },
        {
          "output_type": "display_data",
          "data": {
            "image/png": "[encoded data removed]",
            "text/plain": [
              "<Figure size 432x288 with 1 Axes>"
            ]
          },
          "metadata": {
            "tags": []
          }
        }
      ]
    },
    {
      "cell_type": "markdown",
      "metadata": {
        "id": "lBICZPH127DJ",
        "colab_type": "text"
      },
      "source": [
        "Classification with embeddings"
      ]
    },
    {
      "cell_type": "markdown",
      "metadata": {
        "id": "5roDdkg5GzDM",
        "colab_type": "text"
      },
      "source": [
        "##Creating the Network\n",
        "This network is veru similar to the previous one. The only difference is that we add an embedding layer as first step. Then we do the same processing, fully connected and softmax."
      ]
    },
    {
      "cell_type": "code",
      "metadata": {
        "id": "JnxH6Ds7GzDN",
        "colab_type": "code",
        "colab": {}
      },
      "source": [
        "import torch.nn as nn\n",
        "\n",
        "class Model(nn.Module):\n",
        "    def __init__(self, vocab_size, embed_dim, num_class):\n",
        "        super().__init__()\n",
        "        self.embedding = nn.Embedding(vocab_size+1, embed_dim)#The embedding layer\n",
        "        self.fc = nn.Linear(embed_dim, num_class)#A fully connected layer\n",
        "        self.softmax = nn.LogSoftmax()\n",
        "\n",
        "\n",
        "    def forward(self, text):\n",
        "        embedded = self.embedding(text)\n",
        "        embedded = torch.mean(embedded,axis=0)#Average the embeddings representation.\n",
        "        output = self.fc(embedded)\n",
        "        output = self.softmax(output)\n",
        "\n",
        "        return output\n",
        "\n",
        "        \n",
        "n_hidden = 128\n",
        "model = Model(vocab_size, n_hidden, n_categories)"
      ],
      "execution_count": 0,
      "outputs": []
    },
    {
      "cell_type": "markdown",
      "metadata": {
        "id": "rohxCw5WGzDZ",
        "colab_type": "text"
      },
      "source": [
        "###Training\n",
        "\n"
      ]
    },
    {
      "cell_type": "code",
      "metadata": {
        "colab_type": "code",
        "id": "RM_ansYBjn7b",
        "outputId": "812a9154-c279-45f4-8955-dbec17268277",
        "colab": {
          "base_uri": "https://localhost:8080/",
          "height": 377
        }
      },
      "source": [
        "def randomTrainingExampleEmb():\n",
        "    i = random.randint(0, len(y_train) - 1)\n",
        "    category = y_train[i]\n",
        "\n",
        "    text = X_train[i]\n",
        "\n",
        "    category_tensor = torch.tensor([category], dtype=torch.long)\n",
        "    \n",
        "    indexed_text = indexer.transform([text])[0]\n",
        "    #Here it is different to the one that we used for BoW\n",
        "    text_tensor = torch.zeros([len(indexed_text),1],dtype=torch.long)#Before it was torch.zeros(len(text_indexed), 1, vocab_size+1)\n",
        "\n",
        "    #Here it is different to the one that we used for BoW\n",
        "    for i,idx in enumerate(indexed_text):\n",
        "        text_tensor[i][0] = idx #Before it was tensor[li][0][idx] = 1\n",
        "    \n",
        "    return category, text, category_tensor, text_tensor\n",
        "\n",
        "for i in range(10):\n",
        "    category, text, category_tensor, text_tensor = randomTrainingExampleEmb()\n",
        "    print(text_tensor.size())\n",
        "    print('category =', category, '/ text =', text)"
      ],
      "execution_count": 0,
      "outputs": [
        {
          "output_type": "stream",
          "text": [
            "torch.Size([35, 1])\n",
            "category = 1 / text =   La jornada de este viernes dos tiroteos paralelos afectaron mezquitas en la ciudad de Christchurch en Nueva Zelanda.  Según la prensa local, al menos seis personas murieron , mientras que una gran cantidad quedó con heridas. Cifra que podría aumentar en el transcurso de la jornada        Tiroteos paralelos en dos mezquitas de Nueva Zelanda dejan gran cantidad de muertos    La policía neozelandesa encontró artefactos explosivos luego de los tiroteos señalaron medios internacionales.  Se trataría de bombas caseras que fueron localizadas en los automóviles en los que se movilizaban los atacantes, las que posteriormente fueron desactivadas por personal especializado.  Al menos cuatro personas se encuentran detenidas por los tiroteos.  “Cuatro personas están bajo custodia, tres hombres y una mujer”, dijo el comisionado de policía Mike Bush, quien confirmó el hallazgo de los explosivos.        Policía neozelandesa anuncia captura de cuatro sospechosos por tiroteos en mezquitas    La primera ministra del país, Jacinda Ardern, señaló que “resulta claro que este es uno de los días más oscuros de Nueva Zelanda. Claramente, lo que ha ocurrido aquí fue un acto de violencia extraordinario y sin precedentes”.  El autor de la masacre sería Brenton Tarrant, un australiano de 28 años , el que transmitió vía Facebook el ataque. Autoridades del país solicitaron no compartir el registro, ya que buscan eliminarlo de todas las plataformas.  \n",
            "torch.Size([30, 1])\n",
            "category = 1 / text =   El presidente de Argentina, Mauricio Macri , se emocionó hasta las lágrimas en la gala del G20 , cita de las economías más grandes del mundo que por primera vez se realiza en un país de Sudamérica.  El evento tuvo lugar en el Teatro Colón de Buenos Aires y su quiebre ocurrió tras el fin de uno de los espectáculos con los cuales la organización homenajeó a los jefes de Estado presentes en el recinto.  Los artistas se acercaron al borde del escenario para recibir un cerrado aplauso por parte de los asistentes, entre ellos Vladimir Putin, Angela Merkel y Donald Trump; cuando el mandatario trasandino se vio abiertamente emocionado.  El presidente Sebastián Piñera también presenció el momento. Pese a que Chile no es parte del G20, Macri lo invitó a participar de la cumbre, tal como Felipe Calderón lo hiciera en 2012.  Su esposa , Juliana Awada , lo consoló ; y la canciller alemana fue una de las más entusiasmadas con la espontánea manifestación.  “¡Argentina, Argentina!” se oyó gritar a muchos al interior del Colón, Macri uno de ellos.  AHORA – El llanto y la emoción de Mauricio Macri. El aplauso de pie de los líderes del G20  pic.twitter.com/MhQysQl6Nv  — TN – Todo Noticias (@todonoticias) 30 de noviembre de 2018   \n",
            "torch.Size([63, 1])\n",
            "category = 2 / text =   Ante la ministra Romy Rutherford declaró el teniente coronel del Ejército Cristóbal Butti López , cercano al ex comandante en jefe Humberto Oviedo, que se dedicaba a administrar el domicilio de su superior en Lo Curro, Vitacura.  Pese a que lideró el área de tecnología en la Escuela Militar, pasó por Inteligencia y estuvo destinado en la Antártica, Oviedo lo nombró “oficial de órdenes”.        Someten a proceso a general (r) Oviedo por malversación de caudales públicos de $4.500 millones    Según constató La Tercera , las asignaciones de Butti iban desde mantener la casa a la compra de regalos para el Alto Mando , según la indagatoria, con gastos reservados, puesto que recibía dinero en efectivo sin respaldo del jefe de Finanzas de la Comandancia en Jefe.  “Vásquez, por orden del comandante en jefe Oviedo, le entregaba la suma de $6 millones mensuales. Afirma que toda la asignación de recursos era determinada por el comandante en jefe”, se estableció en el procesamiento a Oviedo, añadiendo que el monto fue aumentando, llegando a los $25 millones en algunas ocasiones.  Diferentes regalos  Además de estar encargado de todas las compras de la casa, que coordinada con la esposa de Oviedo, el medio detalló que existían tres tipos de regalos: Clase A,B y C, los que fluctuaban entre los 140 mil y 60 mil pesos.  Asimismo, se estableció que los dulces eran fundamentales, puesto que destinaba $21 millones al año para el repostero de la casa y, además, contaba con un stock de chocolates .  “Compraban en La Fete, Mulier o Leonidas. Expone que se regalaban cuando el comandante en jefe Oviedo o su señora iban a alguna parte (…) Se compraban entre seis a ocho cajas en la semana, cuyos valores fluctuaban entre los $ 10 a $ 18 mil, y otras de unos 400 gramos. Se gastaban aproximadamente unos $150 mil a la semana en chocolates” , se detalló en el escrito.  Posteriormente, Butti también se hizo cargo de comprar los regalos de Navidad .  En ese sentido, declaró ante Rutherford que en 2015 gastó 8 millones de pesos, comprando 70 regalos para el Alto Mando.  Los años siguientes hubo gastos similares para la festividad. Por ejemplo, compró 20 lápices de 350 mil pesos cada uno.  La Tercera añadió que Butti declaró que le daba “vergüenza” pagar con efectivo, por lo que a veces utilizaba la tarjeta de crédito, además, afirmó que debía cuidar la imagen del comandante en Jefe.  La anterior declaración ocurre en el marco del procesamiento a Oviedo, quienes es indagado por malversación de caudales públicos por 4.500 millones de pesos entre 2014 y 2018.  \n",
            "torch.Size([45, 1])\n",
            "category = 2 / text =   Como un hecho “lamentable y doloroso” calificó la Federación de Empresas de Turismo de Chile (Fedetur), la muerte de seis turistas brasileños que se encontraban de visita en el país, presumiblemente luego de inhalar monóxido de carbono.  De acuerdo a Fedetur, el departamento en que se encontraban en el centro de Santiago habría sido arrendado mediante la plataforma Airbnb.  El presidente de la entidad gremial, Ricardo Margulis, afirmó que “Lo ocurrido nos afecta como sector, ya que el objetivo de esta industria es que los turistas vivan experiencias agradables al visitar los distintos destinos de nuestro país, y no que suceda una situación amarga como esta”.        Las teorías con las que se trabaja para esclarecer la muerte de seis brasileños en Santiago    Así, reiteraron el llamado a las autoridades a regular la oferta informal de alojamiento , y reforzaron la recomendación a los turistas nacionales y extranjeros a que opten por servicios de alojamiento formal registrados en Sernatur.  “No se trata sólo de un tema tributario, sino que hay otros asuntos tanto o más relevantes que se deben abordar, como es garantizar la seguridad de los turistas. La oferta informal no está sometida a los controles y fiscalizaciones de los servicios formales de alojamiento, y por lo mismo, existe un alto riesgo de que hechos de esta naturaleza ocurran, como sucedió ayer”, expresó Ricardo Margulis.  El personero insistió en que se debe actuar proactivamente en esta materia, para así evitar que situaciones como esta se repitan, considerando el impacto que tienen en la imagen del turismo, ya que se ven afectadas vidas humanas.  El representante del gremio concluyó destacando que Brasil es un mercado estratégico para el turismo nacional, especialmente en este período del año, donde vienen muchos visitantes de ese país a disfrutar la temporada de nieve en los centros de esquí.  \n",
            "torch.Size([50, 1])\n",
            "category = 3 / text =   El Gobierno decidió retirar el decreto en donde proponía sólo hombres para el directorio de TVN, lo anterior luego de defender que la ley que obliga la paridad de género entraba en vigencia el 3 de mayo.  En entrevista con Expreso Bío Bío, el exintegrante del directorio de TVN Nissim Sharim, explicó la manera de trabajar del canal tras la decisión del Gobierno.        Gobierno admite error al plantear sólo hombres en directorio de TVN: oposición valora gesto    “ La designación de las personas que integran el directorio está mal concebida . Una cosa es que el poder ejecutivo designe a las personas de su confianza y otra es que se integre un directorio de un canal donde lo principal debería ser la actividad artística e informativa”.  Sobre su experiencia como miembro del directorio durante el gobierno de Ricardo Lagos, aclaró que “no había nadie que entendiera de comunicación, era gente importante en otros planos, pero nadie entendía lo que había que hacer con la comunicación. El asunto se agudizó en la medida que se trataba de poner una programación en el canal que respondiera a las expectativas de la gente “.  A su vez, se refirió al énfasis económico que en sus años se le agregaba al canal por sobre el contenido, lo que indicó “fueron experiencias frustrantes. Resulta que para organizar una producción se median parámetros económicos y cuando los parámetros económicos no eran favorables, se rechazaba cualquier idea y la verdad muchas veces se hacía trampa con eso “.        No incorporaba mujeres: Gobierno retira propuesta para directorio de TVN    Sobre la designación del directorio, Sharim informó que “en cualquier empresa, en cualquier organización si designas a las personas, por muy importantes que sean en sus planos, pero designan a personas que no tienen idea de lo que es la organización en la que participan, podría haber un fracaso aunque tengan buenas ideas en negocios y las platas que entran y salen “.  Para Sharim la estabilidad real se forma cuando “interviene gente que es idónea al respecto y eso me parece que hace mucho tiempo que no ocurre, de gente que entienda el asunto de la comunicación, televisión y elaboración de programas “.  Escucha la entrevista completa aquí:   \n",
            "torch.Size([8, 1])\n",
            "category = 3 / text =   Puede que en el cine hayan sido tan letales contra los humanos como entre ellos mismos, pero en la vida real, Alien y Depredador son dos seres de corazón tierno. Tanto, que decidieron compartir con los penquistas en pleno centro de Concepción.  Esa fue la sorpresa con la que se toparon los transeúntes en la esquina de Barros Arana con Castellón este viernes por la noche, cuando estos dos xenomorfos se tomaron fotografías… con quienes se atrevieran .  Con sus cerca de 2.5 metros de alto y ojos… bueno, en realidad casi no tiene ojos, Alien era quien se robaba todas las miradas, seguido de cerca por Depredador, con su mira láser y máscara que dejaba al descubierto su inconfundible rostro.  Si se topan con ellos, denles un abrazo, unas monedas, y luego huyan por sus vidas .   Christian Leal | BBCL   \n",
            "torch.Size([37, 1])\n",
            "category = 1 / text =   La policía de Malasia incautó una gran cantidad de bolsos de diseñadores, muchos de ellos llenos de dinero y de joyas , durante el allanamiento a las casas y las oficinas del exprimer ministro, Najib Razak, indicaron este viernes medios locales.  “Nuestro personal inspeccionó estos bolsos y descubrió varias divisas, incluyendo ringgit malayos, dólares estadounidenses, relojes y joyas en 72 bolsos” , dijo el director de unidad de la policía que investiga los delitos comerciales, Amar Singh.  El policía dijo que, por el momento, no es posible estimar el valor de las incautaciones debido a su gran volumen.  El allanamiento se produjo en el marco de las investigaciones lanzadas por el nuevo gobierno sobre un enorme escándalo de desvío de fondos públicos.  El nuevo gobierno, proveniente de las legislativas del 10 de mayo, dirigido por Mahathir Mohamad, de 92 años, dijo que quería recuperar los fondos desviados del para el desarrollo del 1Malaysia Development Berhad (1MDB), creado por Najib poco después de su llegada al poder en 2009 y que hoy acumula una deuda de 10.000 millones de euros.  El otrora gobernante, sobre quien pesan sospechas de que desvió fondos por 640 millones de euros , siempre ha negado cualquier acto ilícito.  Según Singh, entre los bolsos incautados, hay artículos de marcas como Hermes y Louis Vuitton, entre otras.  La mujer de Najib, Rosmah Mansor, muy impopular en el país por sus gastos extravagantes, posee una vasta colección de ropa de diseñadores y de bolsos de lujo, según la prensa.  Su reputación contribuyó a las acusaciones de que el gobierno saliente había perdido el contacto con los problemas de la gente de clase media.  \n",
            "torch.Size([34, 1])\n",
            "category = 3 / text =   Una profesora de 51 años es actualmente la prioridad para recibir un trasplante de hígado , luego que se le complicara una hepatitis crónica autoinmune. Jenny Manzo es de Iquique, pero debido a las complicaciones que ha enfrentado debió ser trasladada a la Clínica Dávila, ubicada en la región Metropolitana.  En conversación con el programa Expreso Bío Bío de La Radio, Sandra Semler, hija del esposo de Jenny Manzo, explicó que “su estado es muy crítico y grave debido a que lamentablemente su enfermedad empeoró desde el miércoles. Estamos es la espera de lo que nos digan los médicos en este momento”.  Actualmente, la profesora se encuentra conectada a un ventilador mecánico. “En estos momentos está sedada, está siendo dializada porque lamentablemente sus riñones no están funcionando (…) Lamentablemente cuando Jenny estaba bien, estable dentro de su gravedad, no se pudo optar por el trasplante fallido que no sabemos el motivo de por qué no llegaron esos órganos”, añadió Semler.        Profesora iquiqueña es prioridad para recibir hígado: esposo critica donación fallida desde Temuco    “¿Quién sabe si esos órganos podrían haber ayudado a salvar la vida de Jenny en ese momento?”, cuestionó Semler con respecto a la donación fallida de órganos de Joaquín Bustos .  Semler además entregó un mensaje como familia, pidiendo que “se haga consciencia a nivel humano más que nada. Si tenemos familiares que están críticos y tenemos la opción de donar órganos, que la familia no se niegue”.  Además pidió al Gobierno que “decrete una ley para que no pase esto . Que por falta de medios, aviones, recursos, no se logre que personas puedan ser trasplantadas o seguir viviendo”.  Semler aseguró que actualmente “estamos esperando casi un milagro”.  Escucha la entrevista completa a continuación:   \n",
            "torch.Size([63, 1])\n",
            "category = 1 / text =   El desembarco en Libia de 108 inmigrantes rescatados en el Mediterráneo por un barco comercial generó indignación en Italia entre las organizaciones humanitarias y algunos sectores políticos.  El barco Asso Ventotto, con bandera italiana, rescató el lunes a los inmigrantes en una barcaza a unas 60 millas náuticas (unos 110 km) al noroeste de Trípoli (Libia), según datos oficiales del tráfico marítimo.  En esos casos la Guardia Costera italiana, que coordina las operaciones, suele trasladarlos a Italia.        Ai Weiwei y Marea humana: la crisis mundial de los refugiados e inmigrantes en Chile    Pero desde junio, el gobierno italiano impide el desembarco de los migrantes ilegales y los entrega a los guardacostas libios.  “Libia no es un puerto seguro y se estarían violando leyes internacionales”, denunció el Alto Comisionado de las Naciones Unidas para los Refugiados (Acnur).  “Se trata de una verdadera represión colectiva”, sostiene Nicola Fratoianni, diputado italiano de izquierda, actualmente a bordo de un barco de una ONG española, que escuchó los intercambios radiales con la nave.        Reunión Trump-Conte en la Casa Blanca: dos gobernantes muy parecidos    Para la ONG alemana Sea-Watch se trata de la “primera repatriación por parte de un barco italiano en años”, comentó.  En el 2012, el Tribunal Europeo de Derechos Humanos condenó a Italia después de que un barco militar italiano entregara inmigrantes a Libia en 2009, entonces liderada por Muammar Gaddafi, quien había suscrito una serie de acuerdos con Italia antes de su caída en 2011.  En Libia los inmigrantes africanos son detenidos en forma arbitraria, sufren el abuso, la violencia y la extorsión, mientras que en Italia el 40% de los que han solicitado asilo en los últimos años han obtenido un permiso de residencia.        450 inmigrantes que estaban a la deriva en el Mediterráneo tienen en pugna a Italia y Malta    “Libia no es un lugar seguro (…) no podemos desembarcar a los migrantes allá”, aseguró el lunes por la noche Roberto Fico, presidente de la Cámara de Diputados y dirigente del Movimiento 5 Estrellas (M5E), parte de la coalición gobernante.  Algunos sectores de la formación antisistema M5E, victoriosa en las elecciones, se oponen a la entrega de fragatas italianas a la guardia costera libia para la lucha contra inmigración y han pedido explicaciones a los dirigentes del movimiento.  Matteo Salvini, ministro del Interior y líder de la ultraderechista Liga, aliada de M5E, sin embargo, rechazó las críticas.        España rescata a 340 migrantes en medio del Mediterráneo: uno flotaba sobre un neumático    “En las últimas horas, la guardia costera libia rescató y llevó a 611 migrantes a Libia”, escribió el martes en las redes sociales.  “Las ONG protestan y los traficantes de seres humanos pierden ocasiones de negocios. Eso está bien, vamos a seguir así”, agregó, repitiendo su lema: “Puertos cerrados, corazones abiertos”.  \n",
            "torch.Size([66, 1])\n",
            "category = 1 / text =   Miles de opositores venezolanos, encabezados por el autoproclamado presidente interino Juan Guaidó, llamaron este miércoles en las calles a los militares a permitir la entrada de ayuda humanitaria y a desconocer al mandatario Nicolás Maduro, quien a su vez los llamó a mantenerse unidos y leales. “No disparen en contra de un pueblo que exige también por su familia. Es una orden, soldado de la patria (…) ¡Basta!. Pensaron que generarían miedo, pero estamos en 5.000 puntos” del país, dijo Guaidó, en una manifestación en la universidad central, en Caracas. Entre un tumulto de periodista y seguidores, Guaidó, con una bata médica que le regalaron, caminó con pacientes y enfermeros: “Nos hemos reencontrado en una mayoría poderosa que puede cambiar al país”, declaró. “Llegó Guaidó y la esperanza ya volvió”, cantaban sus seguidores. “Fuerza Armada recupera tu dignidad”, “Maduro usurpador”, rezaban pancartas de manifestantes en varios puntos del país, sonando cornetas, pitos y cacerolas. Guaidó, jefe del Parlamento de mayoría opositora, comentó además que recibió un “pleno respaldo” del presidente estadounidense, Donald Trump, quien lo llamó por teléfono.  Agence France-Presse  “Unidad monolítica” A primera hora, Maduro comandó maniobras militares en Fuerte Tiuna, mayor complejo militar en Caracas, donde denunció que “mercenarios desertores” buscan desde Colombia fracturar a la Fuerza Armada.  “Unidad monolítica! ¡Moral máxima! Llamo a la Fuerza Armada (…) a una gran renovación, a una gran revolución militar de la moral”, arengó Maduro a unos 2.500 soldados. Aunque la cúpula militar la calificó como un “engaño”, el líder opositor insiste en ofrecer amnistía a los militares que colaboren con una transición, buscando romper el sostén de Maduro, la Fuerza Armada. Washington, que no descarta una acción armada en Venezuela, llamó a los militares a apoyar la transición. En este pulso, Maduro encabeza varios actos oficiales. “¿Ustedes quieren que gobierne un títere de los gringos en Venezuela?, preguntó en un mitin. ¡Noooooooo!”, le respondieron. Revisa aquí la manifestación completa  \n"
          ],
          "name": "stdout"
        }
      ]
    },
    {
      "cell_type": "markdown",
      "metadata": {
        "id": "W9AXJuwWGzDk",
        "colab_type": "text"
      },
      "source": [
        "Training the Network\n",
        "--------------------\n",
        "\n",
        "Now all it takes to train this network is show it a bunch of examples,\n",
        "have it make guesses, and tell it if it's wrong.\n",
        "\n",
        "For the loss function ``nn.NLLLoss`` is appropriate, since the last\n",
        "layer of the RNN is ``nn.LogSoftmax``.\n",
        "\n",
        "\n"
      ]
    },
    {
      "cell_type": "code",
      "metadata": {
        "id": "gMBH46Hpv61_",
        "colab_type": "code",
        "colab": {}
      },
      "source": [
        "embedding_size = 128\n",
        "model = Model(vocab_size, embedding_size, n_categories)"
      ],
      "execution_count": 0,
      "outputs": []
    },
    {
      "cell_type": "code",
      "metadata": {
        "id": "maTFi6B5CtrM",
        "colab_type": "code",
        "outputId": "4ef90438-3a52-48bc-89c6-2e7901b045a9",
        "colab": {
          "base_uri": "https://localhost:8080/",
          "height": 357
        }
      },
      "source": [
        "%%time\n",
        "all_losses = loop_training(batch=True, example_generator=randomTrainingExampleEmb)\n",
        "plt.figure()\n",
        "plt.plot(all_losses)"
      ],
      "execution_count": 0,
      "outputs": [
        {
          "output_type": "stream",
          "text": [
            "/usr/local/lib/python3.6/dist-packages/ipykernel_launcher.py:15: UserWarning: Implicit dimension choice for log_softmax has been deprecated. Change the call to include dim=X as an argument.\n",
            "  from ipykernel import kernelapp as app\n"
          ],
          "name": "stderr"
        },
        {
          "output_type": "stream",
          "text": [
            "CPU times: user 16.9 s, sys: 1.42 s, total: 18.3 s\n",
            "Wall time: 18.6 s\n"
          ],
          "name": "stdout"
        },
        {
          "output_type": "display_data",
          "data": {
            "image/png": "[encoded data removed]",
            "text/plain": [
              "<Figure size 432x288 with 1 Axes>"
            ]
          },
          "metadata": {
            "tags": []
          }
        }
      ]
    },
    {
      "cell_type": "markdown",
      "metadata": {
        "id": "3BxP7l0plmUb",
        "colab_type": "text"
      },
      "source": [
        "###Batch processing\n",
        "Same to previously, lets bachify.\n",
        "\n",
        "This function creates a batch of examples with size ``<text_length x batch_size>``."
      ]
    },
    {
      "cell_type": "code",
      "metadata": {
        "id": "-w9gpEAZoqhp",
        "colab_type": "code",
        "outputId": "a32aa8fd-fe69-4949-a1f8-f4f76181ad34",
        "colab": {
          "base_uri": "https://localhost:8080/"
        }
      },
      "source": [
        "def randomTrainingBatchEmb(batch_size):\n",
        "    categories = []\n",
        "    texts = []\n",
        "    for _ in range(batch_size):\n",
        "        i = random.randint(0, len(y_train) - 1)\n",
        "        category = y_train[i]\n",
        "        categories.append(category)\n",
        "        \n",
        "        text = X_train[i]\n",
        "        texts.append(text)\n",
        "    \n",
        "    category_tensor = torch.tensor(categories, dtype=torch.long)\n",
        "    \n",
        "    indexed_texts = indexer.transform(texts)\n",
        "    max_length = max([len(text) for text in indexed_texts])\n",
        "    indexed_texts = [text+[vocab_size]*(max_length-len(text)) for text in indexed_texts]\n",
        "\n",
        "\n",
        "    text_tensor = torch.zeros([len(indexed_texts[0]),batch_size],dtype=torch.long)\n",
        "\n",
        "    for i,indexed_text in enumerate(indexed_texts):\n",
        "        for j,idx in enumerate(indexed_text):\n",
        "            text_tensor[j][i] = idx\n",
        "    \n",
        "    return categories, indexed_texts, category_tensor, text_tensor, \n",
        "\n",
        "category, text, category_tensor, text_tensor = randomTrainingBatchEmb(10)\n",
        "print(text_tensor.size())\n",
        "\n",
        "print('category =', category)\n",
        "print('text =', text)"
      ],
      "execution_count": 0,
      "outputs": [
        {
          "output_type": "stream",
          "text": [
            "torch.Size([226, 10])\n",
            "category = [2, 4, 4, 1, 2, 2, 1, 2, 2, 1]\n",
            "text = [[814, 562, 919, 690, 796, 659, 764, 401, 491, 814, 764, 678, 349, 796, 814, 753, 162, 859, 886, 128, 234, 830, 488, 491, 311, 227, 764, 872, 271, 229, 244, 537, 348, 606, 764, 335, 305, 418, 1000, 1000, 1000, 1000, 1000, 1000, 1000, 1000, 1000, 1000, 1000, 1000, 1000, 1000, 1000, 1000, 1000, 1000, 1000, 1000, 1000, 1000, 1000, 1000, 1000, 1000, 1000, 1000, 1000, 1000, 1000, 1000, 1000, 1000, 1000, 1000, 1000, 1000, 1000, 1000, 1000, 1000, 1000, 1000, 1000, 1000, 1000, 1000, 1000, 1000, 1000, 1000, 1000, 1000, 1000, 1000, 1000, 1000, 1000, 1000, 1000, 1000, 1000, 1000, 1000, 1000, 1000, 1000, 1000, 1000, 1000, 1000, 1000, 1000, 1000, 1000, 1000, 1000, 1000, 1000, 1000, 1000, 1000, 1000, 1000, 1000, 1000, 1000, 1000, 1000, 1000, 1000, 1000, 1000, 1000, 1000, 1000, 1000, 1000, 1000, 1000, 1000, 1000, 1000, 1000, 1000, 1000, 1000, 1000, 1000, 1000, 1000, 1000, 1000, 1000, 1000, 1000, 1000, 1000, 1000, 1000, 1000, 1000, 1000, 1000, 1000, 1000, 1000, 1000, 1000, 1000, 1000, 1000, 1000, 1000, 1000, 1000, 1000, 1000, 1000, 1000, 1000, 1000, 1000, 1000, 1000, 1000, 1000, 1000, 1000, 1000, 1000, 1000, 1000, 1000, 1000, 1000, 1000, 1000, 1000, 1000, 1000, 1000, 1000, 1000, 1000, 1000, 1000, 1000, 1000, 1000, 1000, 1000, 1000, 1000, 1000, 1000, 1000, 1000, 1000, 1000, 1000, 1000, 1000, 1000, 1000, 1000, 1000], [261, 869, 440, 135, 743, 192, 970, 938, 357, 261, 869, 440, 172, 384, 496, 347, 171, 793, 31, 31, 31, 996, 83, 604, 368, 588, 716, 358, 743, 135, 546, 996, 83, 135, 996, 83, 135, 996, 83, 135, 469, 996, 83, 135, 996, 83, 135, 996, 83, 135, 484, 20, 83, 135, 758, 996, 83, 603, 996, 83, 996, 83, 135, 817, 996, 83, 135, 539, 31, 996, 83, 31, 996, 83, 135, 1000, 1000, 1000, 1000, 1000, 1000, 1000, 1000, 1000, 1000, 1000, 1000, 1000, 1000, 1000, 1000, 1000, 1000, 1000, 1000, 1000, 1000, 1000, 1000, 1000, 1000, 1000, 1000, 1000, 1000, 1000, 1000, 1000, 1000, 1000, 1000, 1000, 1000, 1000, 1000, 1000, 1000, 1000, 1000, 1000, 1000, 1000, 1000, 1000, 1000, 1000, 1000, 1000, 1000, 1000, 1000, 1000, 1000, 1000, 1000, 1000, 1000, 1000, 1000, 1000, 1000, 1000, 1000, 1000, 1000, 1000, 1000, 1000, 1000, 1000, 1000, 1000, 1000, 1000, 1000, 1000, 1000, 1000, 1000, 1000, 1000, 1000, 1000, 1000, 1000, 1000, 1000, 1000, 1000, 1000, 1000, 1000, 1000, 1000, 1000, 1000, 1000, 1000, 1000, 1000, 1000, 1000, 1000, 1000, 1000, 1000, 1000, 1000, 1000, 1000, 1000, 1000, 1000, 1000, 1000, 1000, 1000, 1000, 1000, 1000, 1000, 1000, 1000, 1000, 1000, 1000, 1000, 1000, 1000, 1000, 1000, 1000, 1000, 1000, 1000, 1000, 1000, 1000, 1000, 1000, 1000, 1000, 1000, 1000, 1000, 1000], [955, 840, 806, 32, 949, 840, 61, 240, 40, 248, 142, 187, 933, 228, 971, 290, 598, 971, 50, 239, 598, 971, 134, 450, 126, 57, 925, 697, 32, 840, 182, 593, 127, 549, 187, 200, 228, 59, 866, 846, 529, 140, 124, 228, 59, 812, 660, 420, 430, 645, 598, 627, 421, 627, 529, 333, 430, 228, 1000, 1000, 1000, 1000, 1000, 1000, 1000, 1000, 1000, 1000, 1000, 1000, 1000, 1000, 1000, 1000, 1000, 1000, 1000, 1000, 1000, 1000, 1000, 1000, 1000, 1000, 1000, 1000, 1000, 1000, 1000, 1000, 1000, 1000, 1000, 1000, 1000, 1000, 1000, 1000, 1000, 1000, 1000, 1000, 1000, 1000, 1000, 1000, 1000, 1000, 1000, 1000, 1000, 1000, 1000, 1000, 1000, 1000, 1000, 1000, 1000, 1000, 1000, 1000, 1000, 1000, 1000, 1000, 1000, 1000, 1000, 1000, 1000, 1000, 1000, 1000, 1000, 1000, 1000, 1000, 1000, 1000, 1000, 1000, 1000, 1000, 1000, 1000, 1000, 1000, 1000, 1000, 1000, 1000, 1000, 1000, 1000, 1000, 1000, 1000, 1000, 1000, 1000, 1000, 1000, 1000, 1000, 1000, 1000, 1000, 1000, 1000, 1000, 1000, 1000, 1000, 1000, 1000, 1000, 1000, 1000, 1000, 1000, 1000, 1000, 1000, 1000, 1000, 1000, 1000, 1000, 1000, 1000, 1000, 1000, 1000, 1000, 1000, 1000, 1000, 1000, 1000, 1000, 1000, 1000, 1000, 1000, 1000, 1000, 1000, 1000, 1000, 1000, 1000, 1000, 1000, 1000, 1000, 1000, 1000, 1000, 1000, 1000, 1000, 1000, 1000, 1000, 1000], [915, 536, 280, 7, 115, 212, 198, 280, 246, 25, 518, 476, 869, 814, 32, 932, 794, 163, 167, 605, 567, 694, 919, 280, 70, 700, 773, 898, 151, 241, 869, 41, 459, 578, 57, 91, 168, 930, 930, 659, 451, 424, 292, 33, 68, 962, 280, 912, 459, 103, 568, 489, 536, 814, 578, 866, 866, 793, 814, 115, 722, 85, 57, 212, 311, 918, 727, 65, 70, 781, 210, 401, 181, 709, 151, 581, 737, 641, 897, 846, 254, 402, 519, 899, 158, 554, 615, 57, 613, 697, 292, 475, 708, 678, 3, 719, 1000, 1000, 1000, 1000, 1000, 1000, 1000, 1000, 1000, 1000, 1000, 1000, 1000, 1000, 1000, 1000, 1000, 1000, 1000, 1000, 1000, 1000, 1000, 1000, 1000, 1000, 1000, 1000, 1000, 1000, 1000, 1000, 1000, 1000, 1000, 1000, 1000, 1000, 1000, 1000, 1000, 1000, 1000, 1000, 1000, 1000, 1000, 1000, 1000, 1000, 1000, 1000, 1000, 1000, 1000, 1000, 1000, 1000, 1000, 1000, 1000, 1000, 1000, 1000, 1000, 1000, 1000, 1000, 1000, 1000, 1000, 1000, 1000, 1000, 1000, 1000, 1000, 1000, 1000, 1000, 1000, 1000, 1000, 1000, 1000, 1000, 1000, 1000, 1000, 1000, 1000, 1000, 1000, 1000, 1000, 1000, 1000, 1000, 1000, 1000, 1000, 1000, 1000, 1000, 1000, 1000, 1000, 1000, 1000, 1000, 1000, 1000, 1000, 1000, 1000, 1000, 1000, 1000, 1000, 1000, 1000, 1000, 1000, 1000, 1000, 1000, 1000, 1000, 1000, 1000], [511, 148, 938, 306, 209, 464, 681, 98, 895, 389, 252, 723, 133, 952, 895, 888, 64, 303, 932, 895, 322, 8, 364, 306, 741, 759, 836, 64, 622, 5, 223, 812, 936, 179, 965, 223, 940, 988, 130, 5, 257, 965, 303, 932, 1000, 1000, 1000, 1000, 1000, 1000, 1000, 1000, 1000, 1000, 1000, 1000, 1000, 1000, 1000, 1000, 1000, 1000, 1000, 1000, 1000, 1000, 1000, 1000, 1000, 1000, 1000, 1000, 1000, 1000, 1000, 1000, 1000, 1000, 1000, 1000, 1000, 1000, 1000, 1000, 1000, 1000, 1000, 1000, 1000, 1000, 1000, 1000, 1000, 1000, 1000, 1000, 1000, 1000, 1000, 1000, 1000, 1000, 1000, 1000, 1000, 1000, 1000, 1000, 1000, 1000, 1000, 1000, 1000, 1000, 1000, 1000, 1000, 1000, 1000, 1000, 1000, 1000, 1000, 1000, 1000, 1000, 1000, 1000, 1000, 1000, 1000, 1000, 1000, 1000, 1000, 1000, 1000, 1000, 1000, 1000, 1000, 1000, 1000, 1000, 1000, 1000, 1000, 1000, 1000, 1000, 1000, 1000, 1000, 1000, 1000, 1000, 1000, 1000, 1000, 1000, 1000, 1000, 1000, 1000, 1000, 1000, 1000, 1000, 1000, 1000, 1000, 1000, 1000, 1000, 1000, 1000, 1000, 1000, 1000, 1000, 1000, 1000, 1000, 1000, 1000, 1000, 1000, 1000, 1000, 1000, 1000, 1000, 1000, 1000, 1000, 1000, 1000, 1000, 1000, 1000, 1000, 1000, 1000, 1000, 1000, 1000, 1000, 1000, 1000, 1000, 1000, 1000, 1000, 1000, 1000, 1000, 1000, 1000, 1000, 1000, 1000, 1000, 1000, 1000, 1000, 1000], [150, 49, 571, 414, 711, 284, 974, 691, 696, 218, 27, 773, 163, 192, 139, 803, 711, 199, 696, 830, 587, 199, 711, 27, 770, 414, 711, 46, 803, 691, 743, 863, 974, 435, 497, 497, 974, 571, 98, 75, 490, 830, 950, 462, 788, 644, 746, 150, 216, 49, 995, 607, 287, 704, 607, 216, 809, 44, 160, 322, 160, 672, 746, 50, 820, 230, 370, 788, 696, 218, 287, 672, 1000, 1000, 1000, 1000, 1000, 1000, 1000, 1000, 1000, 1000, 1000, 1000, 1000, 1000, 1000, 1000, 1000, 1000, 1000, 1000, 1000, 1000, 1000, 1000, 1000, 1000, 1000, 1000, 1000, 1000, 1000, 1000, 1000, 1000, 1000, 1000, 1000, 1000, 1000, 1000, 1000, 1000, 1000, 1000, 1000, 1000, 1000, 1000, 1000, 1000, 1000, 1000, 1000, 1000, 1000, 1000, 1000, 1000, 1000, 1000, 1000, 1000, 1000, 1000, 1000, 1000, 1000, 1000, 1000, 1000, 1000, 1000, 1000, 1000, 1000, 1000, 1000, 1000, 1000, 1000, 1000, 1000, 1000, 1000, 1000, 1000, 1000, 1000, 1000, 1000, 1000, 1000, 1000, 1000, 1000, 1000, 1000, 1000, 1000, 1000, 1000, 1000, 1000, 1000, 1000, 1000, 1000, 1000, 1000, 1000, 1000, 1000, 1000, 1000, 1000, 1000, 1000, 1000, 1000, 1000, 1000, 1000, 1000, 1000, 1000, 1000, 1000, 1000, 1000, 1000, 1000, 1000, 1000, 1000, 1000, 1000, 1000, 1000, 1000, 1000, 1000, 1000, 1000, 1000, 1000, 1000, 1000, 1000, 1000, 1000, 1000, 1000, 1000, 1000], [40, 890, 846, 70, 912, 947, 247, 635, 203, 154, 1, 442, 736, 750, 203, 353, 787, 578, 106, 442, 592, 218, 974, 183, 879, 1000, 1000, 1000, 1000, 1000, 1000, 1000, 1000, 1000, 1000, 1000, 1000, 1000, 1000, 1000, 1000, 1000, 1000, 1000, 1000, 1000, 1000, 1000, 1000, 1000, 1000, 1000, 1000, 1000, 1000, 1000, 1000, 1000, 1000, 1000, 1000, 1000, 1000, 1000, 1000, 1000, 1000, 1000, 1000, 1000, 1000, 1000, 1000, 1000, 1000, 1000, 1000, 1000, 1000, 1000, 1000, 1000, 1000, 1000, 1000, 1000, 1000, 1000, 1000, 1000, 1000, 1000, 1000, 1000, 1000, 1000, 1000, 1000, 1000, 1000, 1000, 1000, 1000, 1000, 1000, 1000, 1000, 1000, 1000, 1000, 1000, 1000, 1000, 1000, 1000, 1000, 1000, 1000, 1000, 1000, 1000, 1000, 1000, 1000, 1000, 1000, 1000, 1000, 1000, 1000, 1000, 1000, 1000, 1000, 1000, 1000, 1000, 1000, 1000, 1000, 1000, 1000, 1000, 1000, 1000, 1000, 1000, 1000, 1000, 1000, 1000, 1000, 1000, 1000, 1000, 1000, 1000, 1000, 1000, 1000, 1000, 1000, 1000, 1000, 1000, 1000, 1000, 1000, 1000, 1000, 1000, 1000, 1000, 1000, 1000, 1000, 1000, 1000, 1000, 1000, 1000, 1000, 1000, 1000, 1000, 1000, 1000, 1000, 1000, 1000, 1000, 1000, 1000, 1000, 1000, 1000, 1000, 1000, 1000, 1000, 1000, 1000, 1000, 1000, 1000, 1000, 1000, 1000, 1000, 1000, 1000, 1000, 1000, 1000, 1000, 1000, 1000, 1000, 1000, 1000, 1000, 1000, 1000, 1000, 1000, 1000], [868, 983, 664, 1, 943, 383, 165, 362, 690, 996, 745, 629, 664, 943, 521, 963, 126, 743, 743, 278, 218, 661, 48, 661, 789, 272, 132, 218, 252, 148, 1000, 1000, 1000, 1000, 1000, 1000, 1000, 1000, 1000, 1000, 1000, 1000, 1000, 1000, 1000, 1000, 1000, 1000, 1000, 1000, 1000, 1000, 1000, 1000, 1000, 1000, 1000, 1000, 1000, 1000, 1000, 1000, 1000, 1000, 1000, 1000, 1000, 1000, 1000, 1000, 1000, 1000, 1000, 1000, 1000, 1000, 1000, 1000, 1000, 1000, 1000, 1000, 1000, 1000, 1000, 1000, 1000, 1000, 1000, 1000, 1000, 1000, 1000, 1000, 1000, 1000, 1000, 1000, 1000, 1000, 1000, 1000, 1000, 1000, 1000, 1000, 1000, 1000, 1000, 1000, 1000, 1000, 1000, 1000, 1000, 1000, 1000, 1000, 1000, 1000, 1000, 1000, 1000, 1000, 1000, 1000, 1000, 1000, 1000, 1000, 1000, 1000, 1000, 1000, 1000, 1000, 1000, 1000, 1000, 1000, 1000, 1000, 1000, 1000, 1000, 1000, 1000, 1000, 1000, 1000, 1000, 1000, 1000, 1000, 1000, 1000, 1000, 1000, 1000, 1000, 1000, 1000, 1000, 1000, 1000, 1000, 1000, 1000, 1000, 1000, 1000, 1000, 1000, 1000, 1000, 1000, 1000, 1000, 1000, 1000, 1000, 1000, 1000, 1000, 1000, 1000, 1000, 1000, 1000, 1000, 1000, 1000, 1000, 1000, 1000, 1000, 1000, 1000, 1000, 1000, 1000, 1000, 1000, 1000, 1000, 1000, 1000, 1000, 1000, 1000, 1000, 1000, 1000, 1000, 1000, 1000, 1000, 1000, 1000, 1000, 1000, 1000, 1000, 1000, 1000, 1000], [385, 329, 238, 64, 324, 690, 64, 40, 240, 872, 227, 692, 403, 188, 223, 458, 782, 958, 207, 411, 64, 457, 257, 329, 188, 163, 637, 64, 726, 996, 354, 502, 691, 784, 773, 600, 768, 279, 83, 999, 218, 5, 940, 142, 411, 430, 411, 872, 807, 64, 975, 385, 728, 411, 385, 329, 238, 64, 324, 690, 64, 40, 240, 86, 981, 642, 119, 594, 64, 525, 699, 361, 212, 812, 510, 745, 148, 983, 76, 641, 871, 278, 836, 830, 747, 470, 431, 450, 318, 424, 411, 683, 175, 260, 547, 701, 383, 686, 457, 318, 278, 149, 329, 79, 573, 974, 788, 188, 150, 49, 149, 318, 876, 785, 421, 658, 64, 243, 127, 636, 450, 450, 404, 654, 967, 849, 683, 273, 850, 520, 435, 497, 602, 88, 119, 583, 571, 421, 257, 977, 658, 257, 690, 257, 773, 850, 257, 504, 385, 594, 257, 972, 329, 773, 239, 735, 394, 665, 48, 412, 469, 157, 690, 594, 830, 53, 680, 354, 778, 318, 654, 943, 36, 256, 257, 861, 854, 257, 412, 258, 572, 979, 260, 306, 79, 521, 9, 652, 338, 897, 68, 32, 460, 598, 690, 227, 872, 303, 990, 344, 933, 344, 598, 394, 639, 830, 747, 720, 433, 521, 64, 494, 812, 690, 521, 149, 318, 278, 785, 288, 431, 788, 318, 836, 246, 275], [635, 493, 720, 310, 274, 561, 515, 115, 766, 715, 568, 970, 226, 348, 941, 167, 308, 373, 565, 623, 515, 838, 995, 713, 100, 377, 611, 167, 573, 115, 76, 493, 970, 676, 312, 354, 51, 568, 889, 760, 1000, 1000, 1000, 1000, 1000, 1000, 1000, 1000, 1000, 1000, 1000, 1000, 1000, 1000, 1000, 1000, 1000, 1000, 1000, 1000, 1000, 1000, 1000, 1000, 1000, 1000, 1000, 1000, 1000, 1000, 1000, 1000, 1000, 1000, 1000, 1000, 1000, 1000, 1000, 1000, 1000, 1000, 1000, 1000, 1000, 1000, 1000, 1000, 1000, 1000, 1000, 1000, 1000, 1000, 1000, 1000, 1000, 1000, 1000, 1000, 1000, 1000, 1000, 1000, 1000, 1000, 1000, 1000, 1000, 1000, 1000, 1000, 1000, 1000, 1000, 1000, 1000, 1000, 1000, 1000, 1000, 1000, 1000, 1000, 1000, 1000, 1000, 1000, 1000, 1000, 1000, 1000, 1000, 1000, 1000, 1000, 1000, 1000, 1000, 1000, 1000, 1000, 1000, 1000, 1000, 1000, 1000, 1000, 1000, 1000, 1000, 1000, 1000, 1000, 1000, 1000, 1000, 1000, 1000, 1000, 1000, 1000, 1000, 1000, 1000, 1000, 1000, 1000, 1000, 1000, 1000, 1000, 1000, 1000, 1000, 1000, 1000, 1000, 1000, 1000, 1000, 1000, 1000, 1000, 1000, 1000, 1000, 1000, 1000, 1000, 1000, 1000, 1000, 1000, 1000, 1000, 1000, 1000, 1000, 1000, 1000, 1000, 1000, 1000, 1000, 1000, 1000, 1000, 1000, 1000, 1000, 1000, 1000, 1000, 1000, 1000, 1000, 1000, 1000, 1000, 1000, 1000, 1000, 1000, 1000, 1000]]\n"
          ],
          "name": "stdout"
        }
      ]
    },
    {
      "cell_type": "code",
      "metadata": {
        "id": "s7rCYKW_Pxlf",
        "colab_type": "code",
        "colab": {}
      },
      "source": [
        "model = Model(vocab_size, embedding_size, n_categories)"
      ],
      "execution_count": 0,
      "outputs": []
    },
    {
      "cell_type": "code",
      "metadata": {
        "id": "VVWxHrVeC4if",
        "colab_type": "code",
        "outputId": "67673cf1-942b-4171-8c2b-572d771f827b",
        "colab": {
          "base_uri": "https://localhost:8080/"
        }
      },
      "source": [
        "%%time\n",
        "all_losses = loop_training(batch=10, example_generator=randomTrainingBatchEmb)\n",
        "plt.figure()\n",
        "plt.plot(all_losses)"
      ],
      "execution_count": 0,
      "outputs": [
        {
          "output_type": "stream",
          "text": [
            "/usr/local/lib/python3.6/dist-packages/ipykernel_launcher.py:15: UserWarning: Implicit dimension choice for log_softmax has been deprecated. Change the call to include dim=X as an argument.\n",
            "  from ipykernel import kernelapp as app\n"
          ],
          "name": "stderr"
        },
        {
          "output_type": "stream",
          "text": [
            "CPU times: user 15.1 s, sys: 198 ms, total: 15.3 s\n",
            "Wall time: 15.4 s\n"
          ],
          "name": "stdout"
        },
        {
          "output_type": "display_data",
          "data": {
            "image/png": "[encoded data removed]",
            "text/plain": [
              "<Figure size 432x288 with 1 Axes>"
            ]
          },
          "metadata": {
            "tags": []
          }
        }
      ]
    },
    {
      "cell_type": "markdown",
      "metadata": {
        "id": "81CLzT2yR8zJ",
        "colab_type": "text"
      },
      "source": [
        "## Credits\n",
        "\n",
        "The news text documents belong to [Biobio Chile](https://www.biobiochile.cl/), [licence Creative Commons (CC-BY-NC)](https://creativecommons.org/licenses/by-nc/2.0/cl/).\n",
        "\n",
        "Part of the code developed is extracted from \n",
        "\n",
        "\n",
        "*   [https://pytorch.org/tutorials/intermediate/char_rnn_classification_tutorial.html](https://pytorch.org/tutorials/intermediate/char_rnn_classification_tutorial.html)\n",
        "*   [https://pytorch.org/tutorials/beginner/blitz/tensor_tutorial.html#sphx-glr-beginner-blitz-tensor-tutorial-py](https://pytorch.org/tutorials/beginner/blitz/tensor_tutorial.html#sphx-glr-beginner-blitz-tensor-tutorial-py)\n",
        "*   [https://pytorch.org/tutorials/beginner/blitz/autograd_tutorial.html#sphx-glr-beginner-blitz-autograd-tutorial-py](https://pytorch.org/tutorials/beginner/blitz/autograd_tutorial.html#sphx-glr-beginner-blitz-autograd-tutorial-py)\n",
        "\n",
        "## Additional material\n",
        "For additional references visit [https://pytorch.org/tutorials/](https://pytorch.org/tutorials/)."
      ]
    }
  ]
}