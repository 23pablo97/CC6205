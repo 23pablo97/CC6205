{
  "nbformat": 4,
  "nbformat_minor": 0,
  "metadata": {
    "colab": {
      "name": "aux0.ipynb",
      "provenance": [],
      "collapsed_sections": [],
      "toc_visible": true
    },
    "kernelspec": {
      "name": "python3",
      "display_name": "Python 3"
    }
  },
  "cells": [
    {
      "cell_type": "code",
      "metadata": {
        "id": "tKVz-em-lt5H",
        "colab_type": "code",
        "colab": {
          "base_uri": "https://localhost:8080/",
          "height": 34
        },
        "outputId": "91a2709f-4643-4ce7-85da-3f3f226e9b98"
      },
      "source": [
        "!"
      ],
      "execution_count": 10,
      "outputs": [
        {
          "output_type": "stream",
          "text": [
            "sample_data\n"
          ],
          "name": "stdout"
        }
      ]
    },
    {
      "cell_type": "markdown",
      "metadata": {
        "id": "W1iISOcrM_SZ",
        "colab_type": "text"
      },
      "source": [
        "Esta es una celda de texto.\n",
        "\n",
        "# Esto es un titulo grandote\n",
        "\n",
        "## Esto es un titulo un poco menos grandote\n",
        "\n",
        "\n",
        "Esto es un parrafo, `esto esta en codigo`, **esto esta en negrita**, *esto esta en cursiva*\n",
        "\n",
        "Se puede insertar codigo multilinea tambien.\n",
        "```java\n",
        "public static void main(String args[]) { \n",
        "    System.out.println(\"wena\");\n",
        "} \n",
        "```\n",
        "\n",
        "Se pueden insertar lineas para separar texto\n",
        "\n",
        "---\n",
        "\n",
        "Tambien se puede insertar formulas de $\\LaTeX$ dentro del mismo texto: $a = \\frac{e^y\\sqrt{x+2}}{x^2}$. Se puede insertar $\\LaTeX$ en general tambien.\n",
        "\n",
        "\n",
        "\\begin{equation}\n",
        "\\it{CE}(p,q)=\\sum_{x}p(x)\\log \\bigg(\\frac{1}{q(x)}\\bigg)=- \\sum_{x}p(x)\\log q(x)\n",
        "\\end{equation}\n",
        "\n",
        "Tambien se puede escribir `html`.\n",
        "\n",
        "<strong> Esto esta en negrita usando html </strong>\n",
        "\n",
        "Aca dejo mas recursos sobre Colab y Jupyter Notebook:\n",
        "* https://colab.research.google.com/notebooks/intro.ipynb\n",
        "* https://jupyter.org/\n",
        "* https://nbviewer.jupyter.org/github/ipython/ipython/blob/1.x/examples/notebooks/Cell%20Magics.ipynb"
      ]
    },
    {
      "cell_type": "markdown",
      "metadata": {
        "id": "WXFCSsVL3a31",
        "colab_type": "text"
      },
      "source": [
        "# Pequeña introduccion a Numpy y Pandas\n",
        "\n",
        "Colab viene con muchas librerias preinstaldas. Dentro de las que mas vamos a usar estan Numpy y Pandas. Aca tambien dejo unas \"cheat sheets\" para ambas bibliotecas.\n",
        "* https://pandas.pydata.org/docs/\n",
        "* https://pandas.pydata.org/Pandas_Cheat_Sheet.pdf\n",
        "* https://numpy.org/doc/1.18/\n",
        "* https://s3.amazonaws.com/assets.datacamp.com/blog_assets/Numpy_Python_Cheat_Sheet.pdf\n",
        "\n"
      ]
    },
    {
      "cell_type": "code",
      "metadata": {
        "id": "z2pIg5bq3mVf",
        "colab_type": "code",
        "colab": {}
      },
      "source": [
        "import numpy as np\n",
        "import pandas as pd"
      ],
      "execution_count": 0,
      "outputs": []
    },
    {
      "cell_type": "markdown",
      "metadata": {
        "id": "6LaLOoZJ3rUt",
        "colab_type": "text"
      },
      "source": [
        "## Pandas\n",
        "Una herramienta para hacer analisis y manipulacion de datos."
      ]
    },
    {
      "cell_type": "code",
      "metadata": {
        "id": "1RfYSH7R7HCM",
        "colab_type": "code",
        "outputId": "6e45eab9-03dc-42fd-9c52-63f0687b241b",
        "colab": {
          "base_uri": "https://localhost:8080/",
          "height": 519
        }
      },
      "source": [
        "# El objeto principal es el DataFrame\n",
        "dataset = pd.read_json(\n",
        "    'https://github.com/dccuchile/CC6205/releases/download/Data/biobio_nacional.json'\n",
        ")\n",
        "print(type(dataset))\n",
        "dataset.head()"
      ],
      "execution_count": 0,
      "outputs": [
        {
          "output_type": "stream",
          "text": [
            "<class 'pandas.core.frame.DataFrame'>\n"
          ],
          "name": "stdout"
        },
        {
          "output_type": "execute_result",
          "data": {
            "text/html": [
              "<div>\n",
              "<style scoped>\n",
              "    .dataframe tbody tr th:only-of-type {\n",
              "        vertical-align: middle;\n",
              "    }\n",
              "\n",
              "    .dataframe tbody tr th {\n",
              "        vertical-align: top;\n",
              "    }\n",
              "\n",
              "    .dataframe thead th {\n",
              "        text-align: right;\n",
              "    }\n",
              "</style>\n",
              "<table border=\"1\" class=\"dataframe\">\n",
              "  <thead>\n",
              "    <tr style=\"text-align: right;\">\n",
              "      <th></th>\n",
              "      <th>publication_date</th>\n",
              "      <th>publication_hour</th>\n",
              "      <th>author</th>\n",
              "      <th>author_link</th>\n",
              "      <th>title</th>\n",
              "      <th>link</th>\n",
              "      <th>category</th>\n",
              "      <th>subcategory</th>\n",
              "      <th>content</th>\n",
              "      <th>tags</th>\n",
              "      <th>embedded_links</th>\n",
              "    </tr>\n",
              "  </thead>\n",
              "  <tbody>\n",
              "    <tr>\n",
              "      <th>0</th>\n",
              "      <td>05/08/2019</td>\n",
              "      <td>10:50</td>\n",
              "      <td>Gonzalo Cifuentes</td>\n",
              "      <td>/lista/autores/gcifuentes</td>\n",
              "      <td>¿Lavar la ropa con luz?: invento de chilenos e...</td>\n",
              "      <td>https://www.biobiochile.cl/noticias/nacional/c...</td>\n",
              "      <td>Nacional</td>\n",
              "      <td>Nacional</td>\n",
              "      <td>Alumnos de Ingeniería de la Universidad Cató...</td>\n",
              "      <td>[#Chile, #Ingeniería UC, #LightWash, #Luz, #Se...</td>\n",
              "      <td>[]</td>\n",
              "    </tr>\n",
              "    <tr>\n",
              "      <th>1</th>\n",
              "      <td>05/08/2019</td>\n",
              "      <td>07:51</td>\n",
              "      <td>Felipe Delgado</td>\n",
              "      <td>/lista/autores/fdelgado</td>\n",
              "      <td>Alrededor de 40 mil hogares de Puente Alto, Pi...</td>\n",
              "      <td>https://www.biobiochile.cl/noticias/nacional/r...</td>\n",
              "      <td>Nacional</td>\n",
              "      <td>Región Metropolitana</td>\n",
              "      <td>Alrededor de 40 mil hogares de las comunas d...</td>\n",
              "      <td>[#Pirque, #Puente Alto, #Región Metropolitana,...</td>\n",
              "      <td>[]</td>\n",
              "    </tr>\n",
              "    <tr>\n",
              "      <th>2</th>\n",
              "      <td>05/08/2019</td>\n",
              "      <td>08:14</td>\n",
              "      <td>Nicolás Parra</td>\n",
              "      <td>/lista/autores/nparra</td>\n",
              "      <td>Habla director de Compin Bío Bío que se autoap...</td>\n",
              "      <td>https://www.biobiochile.cl/noticias/nacional/r...</td>\n",
              "      <td>Nacional</td>\n",
              "      <td>Región del Bío Bío</td>\n",
              "      <td>Quien fuera el director de la Compin Bío Bío...</td>\n",
              "      <td>[#Compin, #Concepción, #Licencia, #Region del ...</td>\n",
              "      <td>[https://media.biobiochile.cl/wp-content/uploa...</td>\n",
              "    </tr>\n",
              "    <tr>\n",
              "      <th>3</th>\n",
              "      <td>05/08/2019</td>\n",
              "      <td>08:19</td>\n",
              "      <td>Catalina Díaz</td>\n",
              "      <td>/lista/autores/catalinadiaz</td>\n",
              "      <td>6 damnificados dejó incendio que destruyó una ...</td>\n",
              "      <td>https://www.biobiochile.cl/noticias/nacional/r...</td>\n",
              "      <td>Nacional</td>\n",
              "      <td>Región de los Ríos</td>\n",
              "      <td>Seis damnificados es el saldo de un incendio...</td>\n",
              "      <td>[#Bomberos, #Damnificados, #Daños, #Incendio, ...</td>\n",
              "      <td>[https://media.biobiochile.cl/wp-content/uploa...</td>\n",
              "    </tr>\n",
              "    <tr>\n",
              "      <th>4</th>\n",
              "      <td>05/08/2019</td>\n",
              "      <td>08:27</td>\n",
              "      <td>Catalina Díaz</td>\n",
              "      <td>/lista/autores/catalinadiaz</td>\n",
              "      <td>Con arresto domiciliario quedó menor detenido ...</td>\n",
              "      <td>https://www.biobiochile.cl/noticias/nacional/r...</td>\n",
              "      <td>Nacional</td>\n",
              "      <td>Región de los Lagos</td>\n",
              "      <td>Con arresto domiciliario total quedó el adol...</td>\n",
              "      <td>[#Arresto Domiciliario, #Bullying, #Calbuco, #...</td>\n",
              "      <td>[https://media.biobiochile.cl/wp-content/uploa...</td>\n",
              "    </tr>\n",
              "  </tbody>\n",
              "</table>\n",
              "</div>"
            ],
            "text/plain": [
              "  publication_date  ...                                     embedded_links\n",
              "0       05/08/2019  ...                                                 []\n",
              "1       05/08/2019  ...                                                 []\n",
              "2       05/08/2019  ...  [https://media.biobiochile.cl/wp-content/uploa...\n",
              "3       05/08/2019  ...  [https://media.biobiochile.cl/wp-content/uploa...\n",
              "4       05/08/2019  ...  [https://media.biobiochile.cl/wp-content/uploa...\n",
              "\n",
              "[5 rows x 11 columns]"
            ]
          },
          "metadata": {
            "tags": []
          },
          "execution_count": 12
        }
      ]
    },
    {
      "cell_type": "code",
      "metadata": {
        "id": "sz-JV8zs7Jz7",
        "colab_type": "code",
        "outputId": "bef71b21-b4c9-4185-889f-c79f2e3c671f",
        "colab": {
          "base_uri": "https://localhost:8080/",
          "height": 139
        }
      },
      "source": [
        "# Obtener toda una columna\n",
        "print(\"tipo: \", type(dataset[\"author\"]))\n",
        "print(dataset[\"author\"].head())"
      ],
      "execution_count": 0,
      "outputs": [
        {
          "output_type": "stream",
          "text": [
            "tipo:  <class 'pandas.core.series.Series'>\n",
            "0    Gonzalo Cifuentes\n",
            "1       Felipe Delgado\n",
            "2        Nicolás Parra\n",
            "3        Catalina Díaz\n",
            "4        Catalina Díaz\n",
            "Name: author, dtype: object\n"
          ],
          "name": "stdout"
        }
      ]
    },
    {
      "cell_type": "code",
      "metadata": {
        "id": "jl2pbVeQCP2p",
        "colab_type": "code",
        "outputId": "5033cacf-dff2-4fa5-a077-f09e53a1dd1b",
        "colab": {
          "base_uri": "https://localhost:8080/",
          "height": 225
        }
      },
      "source": [
        "# Obtener una fila\n",
        "dataset.iloc[0]"
      ],
      "execution_count": 0,
      "outputs": [
        {
          "output_type": "execute_result",
          "data": {
            "text/plain": [
              "publication_date                                           05/08/2019\n",
              "publication_hour                                                10:50\n",
              "author                                              Gonzalo Cifuentes\n",
              "author_link                                 /lista/autores/gcifuentes\n",
              "title               ¿Lavar la ropa con luz?: invento de chilenos e...\n",
              "link                https://www.biobiochile.cl/noticias/nacional/c...\n",
              "category                                                     Nacional\n",
              "subcategory                                                  Nacional\n",
              "content               Alumnos de Ingeniería de la Universidad Cató...\n",
              "tags                [#Chile, #Ingeniería UC, #LightWash, #Luz, #Se...\n",
              "embedded_links                                                     []\n",
              "Name: 0, dtype: object"
            ]
          },
          "metadata": {
            "tags": []
          },
          "execution_count": 23
        }
      ]
    },
    {
      "cell_type": "markdown",
      "metadata": {
        "id": "Udj41ExxfDrE",
        "colab_type": "text"
      },
      "source": [
        "## Numpy\n",
        "Paquete fundamental para computacion matematica.\n",
        "\n",
        "Clase principal: arraglo n-dimensional, ndarray"
      ]
    },
    {
      "cell_type": "code",
      "metadata": {
        "id": "y6tLcmKuhiVx",
        "colab_type": "code",
        "outputId": "d78f09d6-63c4-434e-e6ba-f1382455c920",
        "colab": {
          "base_uri": "https://localhost:8080/",
          "height": 86
        }
      },
      "source": [
        "# Como crear arreglos\n",
        "\n",
        "# A partir de otro una lista de python\n",
        "print(np.array(range(10)))\n",
        "\n",
        "# Un arrelo de enteros entre un rango un paso especifico\n",
        "print(np.arange(3, 20, 2))\n",
        "\n",
        "# Un arreglo con 10 numero entre 1 y 2\n",
        "print(np.linspace(1,2,10))\n",
        "\n",
        "# Un arreglo de puros 0\n",
        "print(np.zeros(10))"
      ],
      "execution_count": 0,
      "outputs": [
        {
          "output_type": "stream",
          "text": [
            "[0 1 2 3 4 5 6 7 8 9]\n",
            "[ 3  5  7  9 11 13 15 17 19]\n",
            "[1.  1.1 1.2 1.3 1.4 1.5 1.6 1.7 1.8 1.9 2. ]\n",
            "[0. 0. 0. 0. 0. 0. 0. 0. 0. 0.]\n"
          ],
          "name": "stdout"
        }
      ]
    },
    {
      "cell_type": "code",
      "metadata": {
        "id": "lsxRvWDaiL9_",
        "colab_type": "code",
        "outputId": "b21b7ce9-3403-47b8-8af5-10a925418e5d",
        "colab": {
          "base_uri": "https://localhost:8080/",
          "height": 156
        }
      },
      "source": [
        "# Operaciones sobre arreglos\n",
        "\n",
        "a = np.arange(10)\n",
        "print(a**2)\n",
        "print(np.sqrt(a))\n",
        "print(np.pi**a)\n",
        "\n",
        "b = np.arange(5, 15)\n",
        "print(a + b)\n",
        "print(a * b)"
      ],
      "execution_count": 0,
      "outputs": [
        {
          "output_type": "stream",
          "text": [
            "[ 0  1  4  9 16 25 36 49 64 81]\n",
            "[0.         1.         1.41421356 1.73205081 2.         2.23606798\n",
            " 2.44948974 2.64575131 2.82842712 3.        ]\n",
            "[1.00000000e+00 3.14159265e+00 9.86960440e+00 3.10062767e+01\n",
            " 9.74090910e+01 3.06019685e+02 9.61389194e+02 3.02029323e+03\n",
            " 9.48853102e+03 2.98090993e+04]\n",
            "[ 5  7  9 11 13 15 17 19 21 23]\n",
            "[  0   6  14  24  36  50  66  84 104 126]\n"
          ],
          "name": "stdout"
        }
      ]
    },
    {
      "cell_type": "code",
      "metadata": {
        "id": "AWflrWVbiw7b",
        "colab_type": "code",
        "outputId": "f406b79c-5e1f-4ee3-d839-6ed6d013fcc4",
        "colab": {
          "base_uri": "https://localhost:8080/",
          "height": 347
        }
      },
      "source": [
        "# arreglos de mas dimensiones\n",
        "print(np.arange(20).reshape(4,5))\n",
        "print(\"=\" * 20)\n",
        "print(np.arange(60).reshape(3,4,5))"
      ],
      "execution_count": 0,
      "outputs": [
        {
          "output_type": "stream",
          "text": [
            "[[ 0  1  2  3  4]\n",
            " [ 5  6  7  8  9]\n",
            " [10 11 12 13 14]\n",
            " [15 16 17 18 19]]\n",
            "====================\n",
            "[[[ 0  1  2  3  4]\n",
            "  [ 5  6  7  8  9]\n",
            "  [10 11 12 13 14]\n",
            "  [15 16 17 18 19]]\n",
            "\n",
            " [[20 21 22 23 24]\n",
            "  [25 26 27 28 29]\n",
            "  [30 31 32 33 34]\n",
            "  [35 36 37 38 39]]\n",
            "\n",
            " [[40 41 42 43 44]\n",
            "  [45 46 47 48 49]\n",
            "  [50 51 52 53 54]\n",
            "  [55 56 57 58 59]]]\n"
          ],
          "name": "stdout"
        }
      ]
    },
    {
      "cell_type": "markdown",
      "metadata": {
        "id": "bhC7n-30cWU0",
        "colab_type": "text"
      },
      "source": [
        "# Datos\n",
        "Aca voy a mostrar como acceder a datos desde colab.\n",
        "\n",
        "\n",
        "Una forma super simple es conectarse a su Drive y desde ahi acceder a los datos"
      ]
    },
    {
      "cell_type": "code",
      "metadata": {
        "id": "33o_iAbLaX7B",
        "colab_type": "code",
        "outputId": "228980aa-4928-435e-bb40-a0cddabf928b",
        "colab": {
          "base_uri": "https://localhost:8080/",
          "height": 124
        }
      },
      "source": [
        "from google.colab import drive\n",
        "drive.mount('/content/drive')"
      ],
      "execution_count": 0,
      "outputs": [
        {
          "output_type": "stream",
          "text": [
            "Go to this URL in a browser: https://accounts.google.com/o/oauth2/auth?client_id=947318989803-6bn6qk8qdgf4n4g3pfee6491hc0brc4i.apps.googleusercontent.com&redirect_uri=urn%3aietf%3awg%3aoauth%3a2.0%3aoob&response_type=code&scope=email%20https%3a%2f%2fwww.googleapis.com%2fauth%2fdocs.test%20https%3a%2f%2fwww.googleapis.com%2fauth%2fdrive%20https%3a%2f%2fwww.googleapis.com%2fauth%2fdrive.photos.readonly%20https%3a%2f%2fwww.googleapis.com%2fauth%2fpeopleapi.readonly\n",
            "\n",
            "Enter your authorization code:\n",
            "··········\n",
            "Mounted at /content/drive\n"
          ],
          "name": "stdout"
        }
      ]
    },
    {
      "cell_type": "code",
      "metadata": {
        "id": "47sC1htba_63",
        "colab_type": "code",
        "outputId": "0468ac81-aee5-4b9d-cdbd-62047a21ab0c",
        "colab": {
          "base_uri": "https://localhost:8080/",
          "height": 206
        }
      },
      "source": [
        "df = pd.read_csv(\"drive/My Drive/2018_emol_comments_small.tsv\", delimiter=\"\\t\")\n",
        "df.head()"
      ],
      "execution_count": 0,
      "outputs": [
        {
          "output_type": "execute_result",
          "data": {
            "text/html": [
              "<div>\n",
              "<style scoped>\n",
              "    .dataframe tbody tr th:only-of-type {\n",
              "        vertical-align: middle;\n",
              "    }\n",
              "\n",
              "    .dataframe tbody tr th {\n",
              "        vertical-align: top;\n",
              "    }\n",
              "\n",
              "    .dataframe thead th {\n",
              "        text-align: right;\n",
              "    }\n",
              "</style>\n",
              "<table border=\"1\" class=\"dataframe\">\n",
              "  <thead>\n",
              "    <tr style=\"text-align: right;\">\n",
              "      <th></th>\n",
              "      <th>idNoticia</th>\n",
              "      <th>idComment</th>\n",
              "      <th>creatorId</th>\n",
              "      <th>parentId</th>\n",
              "      <th>banned</th>\n",
              "      <th>authSource</th>\n",
              "      <th>text</th>\n",
              "      <th>likes</th>\n",
              "      <th>dislikes</th>\n",
              "      <th>denounces</th>\n",
              "      <th>time</th>\n",
              "      <th>level</th>\n",
              "    </tr>\n",
              "  </thead>\n",
              "  <tbody>\n",
              "    <tr>\n",
              "      <th>0</th>\n",
              "      <td>892722</td>\n",
              "      <td>4799147</td>\n",
              "      <td>160736</td>\n",
              "      <td>NaN</td>\n",
              "      <td>False</td>\n",
              "      <td>facebook</td>\n",
              "      <td>&amp;nbsp;Muy bueno lo que vi del frstival</td>\n",
              "      <td>2</td>\n",
              "      <td>1</td>\n",
              "      <td>0</td>\n",
              "      <td>1516963115000</td>\n",
              "      <td>0</td>\n",
              "    </tr>\n",
              "    <tr>\n",
              "      <th>1</th>\n",
              "      <td>892722</td>\n",
              "      <td>4798886</td>\n",
              "      <td>7823</td>\n",
              "      <td>NaN</td>\n",
              "      <td>False</td>\n",
              "      <td>facebook</td>\n",
              "      <td>&amp;nbsp;Improvisando y con cero libreto..ajiaj e...</td>\n",
              "      <td>8</td>\n",
              "      <td>0</td>\n",
              "      <td>0</td>\n",
              "      <td>1516960895000</td>\n",
              "      <td>0</td>\n",
              "    </tr>\n",
              "    <tr>\n",
              "      <th>2</th>\n",
              "      <td>892722</td>\n",
              "      <td>4798914</td>\n",
              "      <td>245784</td>\n",
              "      <td>4798886.0</td>\n",
              "      <td>False</td>\n",
              "      <td>facebook</td>\n",
              "      <td>&amp;nbsp;@Rodrigo Cancino Sandoval[7823]&amp;nbsp;ese...</td>\n",
              "      <td>5</td>\n",
              "      <td>2</td>\n",
              "      <td>0</td>\n",
              "      <td>1516961099000</td>\n",
              "      <td>1</td>\n",
              "    </tr>\n",
              "    <tr>\n",
              "      <th>3</th>\n",
              "      <td>892722</td>\n",
              "      <td>4798783</td>\n",
              "      <td>65076</td>\n",
              "      <td>NaN</td>\n",
              "      <td>False</td>\n",
              "      <td>facebook</td>\n",
              "      <td>&amp;nbsp;Avello es un adelantado, genial&amp;nbsp;</td>\n",
              "      <td>14</td>\n",
              "      <td>1</td>\n",
              "      <td>0</td>\n",
              "      <td>1516959790000</td>\n",
              "      <td>0</td>\n",
              "    </tr>\n",
              "    <tr>\n",
              "      <th>4</th>\n",
              "      <td>892722</td>\n",
              "      <td>4798175</td>\n",
              "      <td>11263</td>\n",
              "      <td>NaN</td>\n",
              "      <td>False</td>\n",
              "      <td>facebook</td>\n",
              "      <td>&amp;nbsp;Su humor improvisado me pareció genial y...</td>\n",
              "      <td>15</td>\n",
              "      <td>14</td>\n",
              "      <td>0</td>\n",
              "      <td>1516951826000</td>\n",
              "      <td>0</td>\n",
              "    </tr>\n",
              "  </tbody>\n",
              "</table>\n",
              "</div>"
            ],
            "text/plain": [
              "   idNoticia  idComment  creatorId  ...  denounces           time level\n",
              "0     892722    4799147     160736  ...          0  1516963115000     0\n",
              "1     892722    4798886       7823  ...          0  1516960895000     0\n",
              "2     892722    4798914     245784  ...          0  1516961099000     1\n",
              "3     892722    4798783      65076  ...          0  1516959790000     0\n",
              "4     892722    4798175      11263  ...          0  1516951826000     0\n",
              "\n",
              "[5 rows x 12 columns]"
            ]
          },
          "metadata": {
            "tags": []
          },
          "execution_count": 7
        }
      ]
    },
    {
      "cell_type": "markdown",
      "metadata": {
        "id": "muRycP3gctPW",
        "colab_type": "text"
      },
      "source": [
        "Usando la habilidad de colab de ejecutar comandos de shell desde una celda de codigo, podemos descargar un dataset usando la linea de comando, ya sea con `wget` o `curl`."
      ]
    },
    {
      "cell_type": "code",
      "metadata": {
        "id": "8L259tX3eu8v",
        "colab_type": "code",
        "colab": {}
      },
      "source": [
        "!wget users.dcc.uchile.cl/~gchapero/datasets/2018_emol_comments_small.tsv"
      ],
      "execution_count": 0,
      "outputs": []
    },
    {
      "cell_type": "code",
      "metadata": {
        "id": "ICb_o2_qdAtt",
        "colab_type": "code",
        "outputId": "46fe1824-738f-448e-a7b8-367c3534c882",
        "colab": {
          "base_uri": "https://localhost:8080/",
          "height": 467
        }
      },
      "source": [
        "df = pd.read_csv(\"2018_emol_comments_small.tsv\", delimiter=\"\\t\")\n",
        "df.head()"
      ],
      "execution_count": 0,
      "outputs": [
        {
          "output_type": "stream",
          "text": [
            "--2020-03-22 23:01:33--  http://users.dcc.uchile.cl/~gchapero/datasets/2018_emol_comments_small.tsv\n",
            "Resolving users.dcc.uchile.cl (users.dcc.uchile.cl)... 200.9.99.211, 192.80.24.4\n",
            "Connecting to users.dcc.uchile.cl (users.dcc.uchile.cl)|200.9.99.211|:80... connected.\n",
            "HTTP request sent, awaiting response... 302 Found\n",
            "Location: https://users.dcc.uchile.cl/~gchapero/datasets/2018_emol_comments_small.tsv [following]\n",
            "--2020-03-22 23:01:34--  https://users.dcc.uchile.cl/~gchapero/datasets/2018_emol_comments_small.tsv\n",
            "Connecting to users.dcc.uchile.cl (users.dcc.uchile.cl)|200.9.99.211|:443... connected.\n",
            "HTTP request sent, awaiting response... 200 OK\n",
            "Length: 11115406 (11M) [text/tab-separated-values]\n",
            "Saving to: ‘2018_emol_comments_small.tsv.3’\n",
            "\n",
            "2018_emol_comments_ 100%[===================>]  10.60M  3.66MB/s    in 2.9s    \n",
            "\n",
            "2020-03-22 23:01:38 (3.66 MB/s) - ‘2018_emol_comments_small.tsv.3’ saved [11115406/11115406]\n",
            "\n"
          ],
          "name": "stdout"
        },
        {
          "output_type": "execute_result",
          "data": {
            "text/html": [
              "<div>\n",
              "<style scoped>\n",
              "    .dataframe tbody tr th:only-of-type {\n",
              "        vertical-align: middle;\n",
              "    }\n",
              "\n",
              "    .dataframe tbody tr th {\n",
              "        vertical-align: top;\n",
              "    }\n",
              "\n",
              "    .dataframe thead th {\n",
              "        text-align: right;\n",
              "    }\n",
              "</style>\n",
              "<table border=\"1\" class=\"dataframe\">\n",
              "  <thead>\n",
              "    <tr style=\"text-align: right;\">\n",
              "      <th></th>\n",
              "      <th>idNoticia</th>\n",
              "      <th>idComment</th>\n",
              "      <th>creatorId</th>\n",
              "      <th>parentId</th>\n",
              "      <th>banned</th>\n",
              "      <th>authSource</th>\n",
              "      <th>text</th>\n",
              "      <th>likes</th>\n",
              "      <th>dislikes</th>\n",
              "      <th>denounces</th>\n",
              "      <th>time</th>\n",
              "      <th>level</th>\n",
              "    </tr>\n",
              "  </thead>\n",
              "  <tbody>\n",
              "    <tr>\n",
              "      <th>0</th>\n",
              "      <td>892722</td>\n",
              "      <td>4799147</td>\n",
              "      <td>160736</td>\n",
              "      <td>NaN</td>\n",
              "      <td>False</td>\n",
              "      <td>facebook</td>\n",
              "      <td>&amp;nbsp;Muy bueno lo que vi del frstival</td>\n",
              "      <td>2</td>\n",
              "      <td>1</td>\n",
              "      <td>0</td>\n",
              "      <td>1516963115000</td>\n",
              "      <td>0</td>\n",
              "    </tr>\n",
              "    <tr>\n",
              "      <th>1</th>\n",
              "      <td>892722</td>\n",
              "      <td>4798886</td>\n",
              "      <td>7823</td>\n",
              "      <td>NaN</td>\n",
              "      <td>False</td>\n",
              "      <td>facebook</td>\n",
              "      <td>&amp;nbsp;Improvisando y con cero libreto..ajiaj e...</td>\n",
              "      <td>8</td>\n",
              "      <td>0</td>\n",
              "      <td>0</td>\n",
              "      <td>1516960895000</td>\n",
              "      <td>0</td>\n",
              "    </tr>\n",
              "    <tr>\n",
              "      <th>2</th>\n",
              "      <td>892722</td>\n",
              "      <td>4798914</td>\n",
              "      <td>245784</td>\n",
              "      <td>4798886.0</td>\n",
              "      <td>False</td>\n",
              "      <td>facebook</td>\n",
              "      <td>&amp;nbsp;@Rodrigo Cancino Sandoval[7823]&amp;nbsp;ese...</td>\n",
              "      <td>5</td>\n",
              "      <td>2</td>\n",
              "      <td>0</td>\n",
              "      <td>1516961099000</td>\n",
              "      <td>1</td>\n",
              "    </tr>\n",
              "    <tr>\n",
              "      <th>3</th>\n",
              "      <td>892722</td>\n",
              "      <td>4798783</td>\n",
              "      <td>65076</td>\n",
              "      <td>NaN</td>\n",
              "      <td>False</td>\n",
              "      <td>facebook</td>\n",
              "      <td>&amp;nbsp;Avello es un adelantado, genial&amp;nbsp;</td>\n",
              "      <td>14</td>\n",
              "      <td>1</td>\n",
              "      <td>0</td>\n",
              "      <td>1516959790000</td>\n",
              "      <td>0</td>\n",
              "    </tr>\n",
              "    <tr>\n",
              "      <th>4</th>\n",
              "      <td>892722</td>\n",
              "      <td>4798175</td>\n",
              "      <td>11263</td>\n",
              "      <td>NaN</td>\n",
              "      <td>False</td>\n",
              "      <td>facebook</td>\n",
              "      <td>&amp;nbsp;Su humor improvisado me pareció genial y...</td>\n",
              "      <td>15</td>\n",
              "      <td>14</td>\n",
              "      <td>0</td>\n",
              "      <td>1516951826000</td>\n",
              "      <td>0</td>\n",
              "    </tr>\n",
              "  </tbody>\n",
              "</table>\n",
              "</div>"
            ],
            "text/plain": [
              "   idNoticia  idComment  creatorId  ...  denounces           time level\n",
              "0     892722    4799147     160736  ...          0  1516963115000     0\n",
              "1     892722    4798886       7823  ...          0  1516960895000     0\n",
              "2     892722    4798914     245784  ...          0  1516961099000     1\n",
              "3     892722    4798783      65076  ...          0  1516959790000     0\n",
              "4     892722    4798175      11263  ...          0  1516951826000     0\n",
              "\n",
              "[5 rows x 12 columns]"
            ]
          },
          "metadata": {
            "tags": []
          },
          "execution_count": 11
        }
      ]
    }
  ]
}